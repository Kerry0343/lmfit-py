{
  "cells": [
    {
      "cell_type": "markdown",
      "metadata": {},
      "source": [
        "\n# doc_confidence_advanced.py\n"
      ]
    },
    {
      "cell_type": "code",
      "execution_count": null,
      "metadata": {
        "collapsed": false
      },
      "outputs": [],
      "source": [
        "# <examples/doc_confidence_advanced.py>\nimport matplotlib.pyplot as plt\nimport numpy as np\n\nimport lmfit\n\nx = np.linspace(1, 10, 250)\nnp.random.seed(0)\ny = 3.0*np.exp(-x/2) - 5.0*np.exp(-(x-0.1)/10.) + 0.1*np.random.randn(x.size)\n\np = lmfit.create_params(a1=4, a2=4, t1=3, t2=3)\n\n\ndef residual(p):\n    return p['a1']*np.exp(-x/p['t1']) + p['a2']*np.exp(-(x-0.1)/p['t2']) - y\n\n\n# create Minimizer\nmini = lmfit.Minimizer(residual, p, nan_policy='propagate')\n\n# first solve with Nelder-Mead algorithm\nout1 = mini.minimize(method='Nelder')\n\n# then solve with Levenberg-Marquardt using the\n# Nelder-Mead solution as a starting point\nout2 = mini.minimize(method='leastsq', params=out1.params)\n\nlmfit.report_fit(out2.params, min_correl=0.5)\n\nci, trace = lmfit.conf_interval(mini, out2, sigmas=[1, 2], trace=True)\nlmfit.printfuncs.report_ci(ci)\n\n# plot data and best fit\nplt.figure()\nplt.plot(x, y)\nplt.plot(x, residual(out2.params) + y, '-')\nplt.show()\n\n# plot confidence intervals (a1 vs t2 and a2 vs t2)\nfig, axes = plt.subplots(1, 2, figsize=(12.8, 4.8))\ncx, cy, grid = lmfit.conf_interval2d(mini, out2, 'a1', 't2', 30, 30)\nctp = axes[0].contourf(cx, cy, grid, np.linspace(0, 1, 11))\nfig.colorbar(ctp, ax=axes[0])\naxes[0].set_xlabel('a1')\naxes[0].set_ylabel('t2')\n\ncx, cy, grid = lmfit.conf_interval2d(mini, out2, 'a2', 't2', 30, 30)\nctp = axes[1].contourf(cx, cy, grid, np.linspace(0, 1, 11))\nfig.colorbar(ctp, ax=axes[1])\naxes[1].set_xlabel('a2')\naxes[1].set_ylabel('t2')\nplt.show()\n\n# plot dependence between two parameters\nfig, axes = plt.subplots(1, 2, figsize=(12.8, 4.8))\ncx1, cy1, prob = trace['a1']['a1'], trace['a1']['t2'], trace['a1']['prob']\ncx2, cy2, prob2 = trace['t2']['t2'], trace['t2']['a1'], trace['t2']['prob']\n\naxes[0].scatter(cx1, cy1, c=prob, s=30)\naxes[0].set_xlabel('a1')\naxes[0].set_ylabel('t2')\n\naxes[1].scatter(cx2, cy2, c=prob2, s=30)\naxes[1].set_xlabel('t2')\naxes[1].set_ylabel('a1')\nplt.show()\n# <end examples/doc_confidence_advanced.py>"
      ]
    }
  ],
  "metadata": {
    "kernelspec": {
      "display_name": "Python 3",
      "language": "python",
      "name": "python3"
    },
    "language_info": {
      "codemirror_mode": {
        "name": "ipython",
        "version": 3
      },
      "file_extension": ".py",
      "mimetype": "text/x-python",
      "name": "python",
      "nbconvert_exporter": "python",
      "pygments_lexer": "ipython3",
      "version": "3.10.9"
    }
  },
  "nbformat": 4,
  "nbformat_minor": 0
}