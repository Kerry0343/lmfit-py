{
  "cells": [
    {
      "cell_type": "markdown",
      "metadata": {},
      "source": [
        "\n# Building a lmfit model with SymPy\n\nSymPy is a Python library for symbolic mathematics. It can be very useful to\nbuild a model with SymPy and then apply that model to the data with lmfit.\nThis example shows how to do that. Please note that this example requires\nboth the sympy and matplotlib packages.\n"
      ]
    },
    {
      "cell_type": "code",
      "execution_count": null,
      "metadata": {
        "collapsed": false
      },
      "outputs": [],
      "source": [
        "import matplotlib.pyplot as plt\nimport numpy as np\nimport sympy\nfrom sympy.parsing import sympy_parser\n\nimport lmfit"
      ]
    },
    {
      "cell_type": "markdown",
      "metadata": {},
      "source": [
        "Instead of creating the SymPy symbols explicitly and building an expression\nwith them, we will use the SymPy parser.\n\n"
      ]
    },
    {
      "cell_type": "code",
      "execution_count": null,
      "metadata": {
        "collapsed": false
      },
      "outputs": [],
      "source": [
        "gauss_peak1 = sympy_parser.parse_expr('A1*exp(-(x-xc1)**2/(2*sigma1**2))')\ngauss_peak2 = sympy_parser.parse_expr('A2*exp(-(x-xc2)**2/(2*sigma2**2))')\nexp_back = sympy_parser.parse_expr('B*exp(-x/xw)')\n\nmodel_list = sympy.Array((gauss_peak1, gauss_peak2, exp_back))\nmodel = sum(model_list)"
      ]
    },
    {
      "cell_type": "markdown",
      "metadata": {},
      "source": [
        "We are using SymPy's lambdify function to make a function from the model\nexpressions. We then use these functions to generate some fake data.\n\n"
      ]
    },
    {
      "cell_type": "code",
      "execution_count": null,
      "metadata": {
        "collapsed": false
      },
      "outputs": [],
      "source": [
        "model_list_func = sympy.lambdify(list(model_list.free_symbols), model_list)\nmodel_func = sympy.lambdify(list(model.free_symbols), model)"
      ]
    },
    {
      "cell_type": "markdown",
      "metadata": {},
      "source": [
        "Generate synthetic data with noise and plot the data.\n\n"
      ]
    },
    {
      "cell_type": "code",
      "execution_count": null,
      "metadata": {
        "collapsed": false
      },
      "outputs": [],
      "source": [
        "np.random.seed(1)\nx = np.linspace(0, 10, 40)\nparam_values = dict(x=x, A1=2, sigma1=1, sigma2=1, A2=3, xc1=2, xc2=5, xw=4, B=5)\ny = model_func(**param_values)\nyi = model_list_func(**param_values)\nyn = y + np.random.randn(y.size)*0.4\n\nplt.plot(x, yn, 'o')\nplt.plot(x, y)\nfor c in yi:\n    plt.plot(x, c, color='0.7')"
      ]
    },
    {
      "cell_type": "markdown",
      "metadata": {},
      "source": [
        "Next, we will just create a lmfit model from the function and fit the data.\n\n"
      ]
    },
    {
      "cell_type": "code",
      "execution_count": null,
      "metadata": {
        "collapsed": false
      },
      "outputs": [],
      "source": [
        "lm_mod = lmfit.Model(model_func, independent_vars=('x',))\nres = lm_mod.fit(data=yn, **param_values)"
      ]
    },
    {
      "cell_type": "code",
      "execution_count": null,
      "metadata": {
        "collapsed": false
      },
      "outputs": [],
      "source": [
        "res.plot_fit()\nplt.plot(x, y, label='true')\nplt.legend()"
      ]
    },
    {
      "cell_type": "markdown",
      "metadata": {},
      "source": [
        "The nice thing of using SymPy is that we can easily modify our fit function.\nLet's assume we know that the width of both Gaussians are identical. Similarly,\nwe assume that the ratio between both Gaussians is fixed to 3:2 for some\nreason. Both can be expressed by just substituting the variables.\n\n"
      ]
    },
    {
      "cell_type": "code",
      "execution_count": null,
      "metadata": {
        "collapsed": false
      },
      "outputs": [],
      "source": [
        "model2 = model.subs('sigma2', 'sigma1').subs('A2', '3/2*A1')\nmodel2_func = sympy.lambdify(list(model2.free_symbols), model2)\nlm_mod = lmfit.Model(model2_func, independent_vars=('x',))\nparam2_values = dict(x=x, A1=2, sigma1=1, xc1=2, xc2=5, xw=4, B=5)\nres2 = lm_mod.fit(data=yn, **param2_values)\nres2.plot_fit()\nplt.plot(x, y, label='true')\nplt.legend()\nplt.show()"
      ]
    }
  ],
  "metadata": {
    "kernelspec": {
      "display_name": "Python 3",
      "language": "python",
      "name": "python3"
    },
    "language_info": {
      "codemirror_mode": {
        "name": "ipython",
        "version": 3
      },
      "file_extension": ".py",
      "mimetype": "text/x-python",
      "name": "python",
      "nbconvert_exporter": "python",
      "pygments_lexer": "ipython3",
      "version": "3.11.5"
    }
  },
  "nbformat": 4,
  "nbformat_minor": 0
}