{
  "cells": [
    {
      "cell_type": "markdown",
      "metadata": {},
      "source": [
        "\n# Model - with nan policy\n"
      ]
    },
    {
      "cell_type": "code",
      "execution_count": null,
      "metadata": {
        "collapsed": false
      },
      "outputs": [],
      "source": [
        "# <examples/doc_model_with_nan_policy.py>\nimport matplotlib.pyplot as plt\nimport numpy as np\n\nfrom lmfit.models import GaussianModel\n\ndata = np.loadtxt('model1d_gauss.dat')\nx = data[:, 0]\ny = data[:, 1]\n\ny[44] = np.nan\ny[65] = np.nan\n\n# nan_policy = 'raise'\n# nan_policy = 'propagate'\nnan_policy = 'omit'\n\ngmodel = GaussianModel()\nresult = gmodel.fit(y, x=x, amplitude=5, center=6, sigma=1,\n                    nan_policy=nan_policy)\n\nprint(result.fit_report())\n\n# make sure nans are removed for plotting:\nx_ = x[np.where(np.isfinite(y))]\ny_ = y[np.where(np.isfinite(y))]\n\nplt.plot(x_, y_, 'o')\nplt.plot(x_, result.init_fit, '--', label='initial fit')\nplt.plot(x_, result.best_fit, '-', label='best fit')\nplt.legend()\nplt.show()\n# <end examples/doc_model_with_nan_policy.py>"
      ]
    }
  ],
  "metadata": {
    "kernelspec": {
      "display_name": "Python 3",
      "language": "python",
      "name": "python3"
    },
    "language_info": {
      "codemirror_mode": {
        "name": "ipython",
        "version": 3
      },
      "file_extension": ".py",
      "mimetype": "text/x-python",
      "name": "python",
      "nbconvert_exporter": "python",
      "pygments_lexer": "ipython3",
      "version": "3.13.3"
    }
  },
  "nbformat": 4,
  "nbformat_minor": 0
}