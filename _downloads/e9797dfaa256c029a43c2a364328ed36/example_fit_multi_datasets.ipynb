{
  "cells": [
    {
      "cell_type": "markdown",
      "metadata": {},
      "source": [
        "\n# Fit Multiple Data Sets\n\nFitting multiple (simulated) Gaussian data sets simultaneously.\n\nAll minimizers require the residual array to be one-dimensional. Therefore, in\nthe ``objective`` function we need to ``flatten`` the array before returning it.\n\nTODO: this could/should be using the Model interface / built-in models!\n"
      ]
    },
    {
      "cell_type": "code",
      "execution_count": null,
      "metadata": {
        "collapsed": false
      },
      "outputs": [],
      "source": [
        "import matplotlib.pyplot as plt\nimport numpy as np\n\nfrom lmfit import Parameters, minimize, report_fit\n\n\ndef gauss(x, amp, cen, sigma):\n    \"\"\"Gaussian lineshape.\"\"\"\n    return amp * np.exp(-(x-cen)**2 / (2.*sigma**2))\n\n\ndef gauss_dataset(params, i, x):\n    \"\"\"Calculate Gaussian lineshape from parameters for data set.\"\"\"\n    amp = params[f'amp_{i+1}']\n    cen = params[f'cen_{i+1}']\n    sig = params[f'sig_{i+1}']\n    return gauss(x, amp, cen, sig)\n\n\ndef objective(params, x, data):\n    \"\"\"Calculate total residual for fits of Gaussians to several data sets.\"\"\"\n    ndata, _ = data.shape\n    resid = 0.0*data[:]\n\n    # make residual per data set\n    for i in range(ndata):\n        resid[i, :] = data[i, :] - gauss_dataset(params, i, x)\n\n    # now flatten this to a 1D array, as minimize() needs\n    return resid.flatten()"
      ]
    },
    {
      "cell_type": "markdown",
      "metadata": {},
      "source": [
        "Create five simulated Gaussian data sets\n\n"
      ]
    },
    {
      "cell_type": "code",
      "execution_count": null,
      "metadata": {
        "collapsed": false
      },
      "outputs": [],
      "source": [
        "np.random.seed(2021)\nx = np.linspace(-1, 2, 151)\ndata = []\nfor _ in np.arange(5):\n    amp = 0.60 + 9.50*np.random.rand()\n    cen = -0.20 + 1.20*np.random.rand()\n    sig = 0.25 + 0.03*np.random.rand()\n    dat = gauss(x, amp, cen, sig) + np.random.normal(size=x.size, scale=0.1)\n    data.append(dat)\ndata = np.array(data)"
      ]
    },
    {
      "cell_type": "markdown",
      "metadata": {},
      "source": [
        "Create five sets of fitting parameters, one per data set\n\n"
      ]
    },
    {
      "cell_type": "code",
      "execution_count": null,
      "metadata": {
        "collapsed": false
      },
      "outputs": [],
      "source": [
        "fit_params = Parameters()\nfor iy, y in enumerate(data):\n    fit_params.add(f'amp_{iy+1}', value=0.5, min=0.0, max=200)\n    fit_params.add(f'cen_{iy+1}', value=0.4, min=-2.0, max=2.0)\n    fit_params.add(f'sig_{iy+1}', value=0.3, min=0.01, max=3.0)"
      ]
    },
    {
      "cell_type": "markdown",
      "metadata": {},
      "source": [
        "Constrain the values of sigma to be the same for all peaks by assigning\nsig_2, ..., sig_5 to be equal to sig_1.\n\n"
      ]
    },
    {
      "cell_type": "code",
      "execution_count": null,
      "metadata": {
        "collapsed": false
      },
      "outputs": [],
      "source": [
        "for iy in (2, 3, 4, 5):\n    fit_params[f'sig_{iy}'].expr = 'sig_1'"
      ]
    },
    {
      "cell_type": "markdown",
      "metadata": {},
      "source": [
        "Run the global fit and show the fitting result\n\n"
      ]
    },
    {
      "cell_type": "code",
      "execution_count": null,
      "metadata": {
        "collapsed": false
      },
      "outputs": [],
      "source": [
        "out = minimize(objective, fit_params, args=(x, data))\nreport_fit(out.params)"
      ]
    },
    {
      "cell_type": "markdown",
      "metadata": {},
      "source": [
        "Plot the data sets and fits\n\n"
      ]
    },
    {
      "cell_type": "code",
      "execution_count": null,
      "metadata": {
        "collapsed": false
      },
      "outputs": [],
      "source": [
        "plt.figure()\nfor i in range(5):\n    y_fit = gauss_dataset(out.params, i, x)\n    plt.plot(x, data[i, :], 'o', x, y_fit, '-')"
      ]
    }
  ],
  "metadata": {
    "kernelspec": {
      "display_name": "Python 3",
      "language": "python",
      "name": "python3"
    },
    "language_info": {
      "codemirror_mode": {
        "name": "ipython",
        "version": 3
      },
      "file_extension": ".py",
      "mimetype": "text/x-python",
      "name": "python",
      "nbconvert_exporter": "python",
      "pygments_lexer": "ipython3",
      "version": "3.12.4"
    }
  },
  "nbformat": 4,
  "nbformat_minor": 0
}