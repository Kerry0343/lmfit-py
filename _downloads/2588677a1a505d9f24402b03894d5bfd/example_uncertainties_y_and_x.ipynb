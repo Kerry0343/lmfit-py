{
  "cells": [
    {
      "cell_type": "markdown",
      "metadata": {},
      "source": [
        "\n# Fitting data with uncertainties in x and y\n\nThis examples shows a general way of fitting a model\nto y(x) data which has uncertainties in both y and x.\n\nFor more in-depth discussion, see\n    https://dx.doi.org/10.1021/acs.analchem.0c02178\n"
      ]
    },
    {
      "cell_type": "code",
      "execution_count": null,
      "metadata": {
        "collapsed": false
      },
      "outputs": [],
      "source": [
        "import matplotlib.pyplot as plt\nimport numpy as np\n\nfrom lmfit import Minimizer, Parameters, report_fit\nfrom lmfit.lineshapes import gaussian\n\n# create data to be fitted\nnp.random.seed(17)\nxtrue = np.linspace(0, 50, 101)\nxstep = xtrue[1] - xtrue[0]\namp, cen, sig, offset, slope = 39, 28.2, 4.4, -13, 0.012\n\nytrue = (gaussian(xtrue, amplitude=amp, center=cen, sigma=sig)\n         + offset + slope * xtrue)\n\nydat = ytrue + np.random.normal(size=xtrue.size, scale=0.1)\n\n# we add errors to x after y has been created, as if there is\n# an ideal y(x) and we have noise in both x and y.\n# we force the uncertainty away from 'normal', forcing\n# it to be smaller than the step size.\nxerr = np.random.normal(size=xtrue.size, scale=0.1*xstep)\nmax_xerr = 0.8*xstep\nxerr[np.where(xerr > max_xerr)] = max_xerr\nxerr[np.where(xerr < -max_xerr)] = -max_xerr\nxdat = xtrue + xerr\n\n# now we assert that we know the uncertaintits in y and x\n#   we'll pick values that are reesonable but not exactly\n#   what we used to make the noise\nyerr = 0.06\nxerr = xstep\n\n\ndef peak_model(params, x):\n    \"\"\"Model a peak with a linear background.\"\"\"\n    amp = params['amp'].value\n    cen = params['cen'].value\n    sig = params['sig'].value\n    offset = params['offset'].value\n    slope = params['slope'].value\n    return offset + slope * x + gaussian(x, amplitude=amp, center=cen, sigma=sig)\n\n\n# objective without xerr\ndef objective_no_xerr(params, x, y, yerr):\n    model = peak_model(params, x)\n    return (model - y) / abs(yerr)\n\n\n# objective with xerr\ndef objective_with_xerr(params, x, y, yerr, xerr):\n    model = peak_model(params, x)\n    dmodel_dx = np.gradient(model) / np.gradient(x)\n    dmodel = np.sqrt(yerr**2 + (xerr*dmodel_dx)**2)\n    return (model - y) / dmodel\n\n\n# create a set of Parameters\nparams = Parameters()\nparams.add('amp', value=50, min=0)\nparams.add('cen', value=25)\nparams.add('sig', value=10)\nparams.add('slope', value=1.e-4)\nparams.add('offset', value=-5)\n\n# first fit without xerr\nmini1 = Minimizer(objective_no_xerr, params, fcn_args=(xdat, ydat, yerr))\nresult1 = mini1.minimize()\nbestfit1 = peak_model(result1.params, xdat)\n\n\nmini2 = Minimizer(objective_with_xerr, params, fcn_args=(xdat, ydat, yerr, xerr))\nresult2 = mini2.minimize()\n\nbestfit2 = peak_model(result2.params, xdat)\n\n\nprint(\"### not including uncertainty in x:\")\nprint(report_fit(result1))\nprint(\"### including uncertainty in x:\")\nprint(report_fit(result2))\n\nprint(xdat[:4])\n\nplt.plot(xdat, ydat, 'o', label='data with noise in x and y')\nplt.plot(xtrue, ytrue, '-+', label='true data')\nplt.plot(xdat, bestfit1, label='fit, no x error')\nplt.plot(xdat, bestfit2, label='fit, with x error')\nplt.legend()\nplt.show()\n\n# # <end examples/doc_uncertainties_in_x_and_y.py>"
      ]
    }
  ],
  "metadata": {
    "kernelspec": {
      "display_name": "Python 3",
      "language": "python",
      "name": "python3"
    },
    "language_info": {
      "codemirror_mode": {
        "name": "ipython",
        "version": 3
      },
      "file_extension": ".py",
      "mimetype": "text/x-python",
      "name": "python",
      "nbconvert_exporter": "python",
      "pygments_lexer": "ipython3",
      "version": "3.12.7"
    }
  },
  "nbformat": 4,
  "nbformat_minor": 0
}