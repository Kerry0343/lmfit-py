{
  "cells": [
    {
      "cell_type": "markdown",
      "metadata": {},
      "source": [
        "\n# Builtinmodels - peakmodels\n"
      ]
    },
    {
      "cell_type": "code",
      "execution_count": null,
      "metadata": {
        "collapsed": false
      },
      "outputs": [],
      "source": [
        "# <examples/doc_builtinmodels_peakmodels.py>\nimport matplotlib.pyplot as plt\nfrom numpy import loadtxt\n\nfrom lmfit.models import GaussianModel, LorentzianModel, VoigtModel\n\ndata = loadtxt('test_peak.dat')\nx = data[:, 0]\ny = data[:, 1]\n\n\n# Gaussian model\nmod = GaussianModel()\npars = mod.guess(y, x=x)\nout = mod.fit(y, pars, x=x)\n\nprint(out.fit_report(correl_mode='table'))\n\nplt.plot(x, y)\nplt.plot(x, out.best_fit, '-', label='Gaussian Model')\nplt.legend()\nplt.show()\n\n\n# Lorentzian model\nmod = LorentzianModel()\npars = mod.guess(y, x=x)\nout = mod.fit(y, pars, x=x)\n\nprint(out.fit_report(correl_mode='table'))\n\nplt.figure()\nplt.plot(x, y, '-')\nplt.plot(x, out.best_fit, '-', label='Lorentzian Model')\nplt.legend()\nplt.show()\n\n\n# Voigt model\nmod = VoigtModel()\npars = mod.guess(y, x=x)\nout = mod.fit(y, pars, x=x)\n\nprint(out.fit_report(correl_mode='table'))\n\nfig, axes = plt.subplots(1, 2, figsize=(12.8, 4.8))\n\naxes[0].plot(x, y, '-')\naxes[0].plot(x, out.best_fit, '-', label='Voigt Model\\ngamma constrained')\naxes[0].legend()\n\n# allow the gamma parameter to vary in the fit\npars['gamma'].vary = True\nout_gamma = mod.fit(y, pars, x=x)\nprint(out.fit_report(correl_mode='table'))\n\naxes[1].plot(x, y, '-')\naxes[1].plot(x, out_gamma.best_fit, '-', label='Voigt Model\\ngamma unconstrained')\naxes[1].legend()\n\nplt.show()\n# <end examples/doc_builtinmodels_peakmodels.py>"
      ]
    }
  ],
  "metadata": {
    "kernelspec": {
      "display_name": "Python 3",
      "language": "python",
      "name": "python3"
    },
    "language_info": {
      "codemirror_mode": {
        "name": "ipython",
        "version": 3
      },
      "file_extension": ".py",
      "mimetype": "text/x-python",
      "name": "python",
      "nbconvert_exporter": "python",
      "pygments_lexer": "ipython3",
      "version": "3.13.3"
    }
  },
  "nbformat": 4,
  "nbformat_minor": 0
}