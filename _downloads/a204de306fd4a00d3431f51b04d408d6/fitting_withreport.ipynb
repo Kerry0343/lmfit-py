{
  "cells": [
    {
      "cell_type": "markdown",
      "metadata": {},
      "source": [
        "\n# Fitting - withreport\n"
      ]
    },
    {
      "cell_type": "code",
      "execution_count": null,
      "metadata": {
        "collapsed": false
      },
      "outputs": [],
      "source": [
        "# <examples/doc_fitting_withreport.py>\nfrom numpy import exp, linspace, pi, random, sign, sin\n\nfrom lmfit import create_params, fit_report, minimize\n\np_true = create_params(amp=14.0, period=5.46, shift=0.123, decay=0.032)\n\n\ndef residual(pars, x, data=None):\n    \"\"\"Model a decaying sine wave and subtract data.\"\"\"\n    vals = pars.valuesdict()\n    amp = vals['amp']\n    per = vals['period']\n    shift = vals['shift']\n    decay = vals['decay']\n\n    if abs(shift) > pi/2:\n        shift = shift - sign(shift)*pi\n    model = amp * sin(shift + x/per) * exp(-x*x*decay*decay)\n    if data is None:\n        return model\n    return model - data\n\n\nrandom.seed(0)\nx = linspace(0.0, 250., 1001)\nnoise = random.normal(scale=0.7215, size=x.size)\ndata = residual(p_true, x) + noise\n\nfit_params = create_params(amp=13, period=2, shift=0, decay=0.02)\n\nout = minimize(residual, fit_params, args=(x,), kws={'data': data})\n\nprint(fit_report(out))\n# <end examples/doc_fitting_withreport.py>"
      ]
    }
  ],
  "metadata": {
    "kernelspec": {
      "display_name": "Python 3",
      "language": "python",
      "name": "python3"
    },
    "language_info": {
      "codemirror_mode": {
        "name": "ipython",
        "version": 3
      },
      "file_extension": ".py",
      "mimetype": "text/x-python",
      "name": "python",
      "nbconvert_exporter": "python",
      "pygments_lexer": "ipython3",
      "version": "3.12.5"
    }
  },
  "nbformat": 4,
  "nbformat_minor": 0
}