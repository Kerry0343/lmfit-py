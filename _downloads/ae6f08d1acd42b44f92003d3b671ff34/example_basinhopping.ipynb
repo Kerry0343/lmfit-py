{
  "cells": [
    {
      "cell_type": "markdown",
      "metadata": {},
      "source": [
        "\n# Fit comparing leastsq and basin hopping, or other methods\n\nThis example compares the ``leastsq`` and ``basinhopping`` algorithms\non a decaying sine wave.  Note that this can be used to compare other\nfitting algorithms too.\n"
      ]
    },
    {
      "cell_type": "code",
      "execution_count": null,
      "metadata": {
        "collapsed": false
      },
      "outputs": [],
      "source": [
        "import sys\n\nimport matplotlib.pyplot as plt\nimport numpy as np\n\nimport lmfit\n\nVALID_METHODS = ['least_squares', 'differential_evolution', 'brute',\n                 'basinhopping', 'ampgo', 'nelder', 'lbfgsb', 'powell', 'cg',\n                 'newton', 'cobyla', 'bfgs', 'tnc', 'trust-ncg', 'trust-exact',\n                 'trust-krylov', 'trust-constr', 'dogleg', 'slsqp', 'emcee',\n                 'shgo', 'dual_annealing']\n\n\ndef sine_decay(x, amplitude, frequency, decay, offset):\n    return offset + amplitude * np.sin(x*frequency) * np.exp(-x/decay)\n\n\nx = np.linspace(0, 20, 201)\nnp.random.seed(2)\n\nydat = sine_decay(x, 12.5, 2.0, 4.5, 1.25) + np.random.normal(size=len(x), scale=0.40)\n\nmodel = lmfit.Model(sine_decay)\nparams = model.make_params(amplitude={'value': 10, 'min': 0, 'max': 1000},\n                           frequency={'value': 2.0, 'min': 0, 'max': 6.0},\n                           decay={'value': 2.0, 'min': 0.001, 'max': 12},\n                           offset=1.0)\n\n# fit with leastsq\nresult0 = model.fit(ydat, params, x=x, method='leastsq')\nprint(\"# Fit using leastsq:\")\nprint(result0.fit_report())\n\nmethod2 = 'basinhopping'\nif len(sys.argv) > 1 and sys.argv[1] in VALID_METHODS:\n    method2 = sys.argv[1]\n\n\n# fit with other method\nresult = model.fit(ydat, params, x=x, method=method2)\nprint(f\"\\n#####################\\n# Fit using {method2}:\")\nprint(result.fit_report())\n\n# plot comparison\nplt.plot(x, ydat, 'o', label='data')\nplt.plot(x, result0.best_fit, '+', label='leastsq')\nplt.plot(x, result.best_fit, '-', label=method2)\nplt.legend()\nplt.show()"
      ]
    }
  ],
  "metadata": {
    "kernelspec": {
      "display_name": "Python 3",
      "language": "python",
      "name": "python3"
    },
    "language_info": {
      "codemirror_mode": {
        "name": "ipython",
        "version": 3
      },
      "file_extension": ".py",
      "mimetype": "text/x-python",
      "name": "python",
      "nbconvert_exporter": "python",
      "pygments_lexer": "ipython3",
      "version": "3.13.3"
    }
  },
  "nbformat": 4,
  "nbformat_minor": 0
}