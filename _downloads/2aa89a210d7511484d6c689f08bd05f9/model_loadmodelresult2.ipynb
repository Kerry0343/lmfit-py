{
  "cells": [
    {
      "cell_type": "markdown",
      "metadata": {},
      "source": [
        "\n# doc_model_loadmodelresult2.py\n"
      ]
    },
    {
      "cell_type": "code",
      "execution_count": null,
      "metadata": {
        "collapsed": false
      },
      "outputs": [],
      "source": [
        "# <examples/doc_model_loadmodelresult2.py>\nimport os\nimport sys\n\nimport matplotlib.pyplot as plt\nimport numpy as np\n\nfrom lmfit.model import load_modelresult\n\nif not os.path.exists('nistgauss_modelresult.sav'):\n    os.system(f\"{sys.executable} doc_model_savemodelresult2.py\")\n\ndat = np.loadtxt('NIST_Gauss2.dat')\nx = dat[:, 1]\ny = dat[:, 0]\n\nresult = load_modelresult('nistgauss_modelresult.sav')\nprint(result.fit_report())\n\nplt.plot(x, y, 'o')\nplt.plot(x, result.best_fit, '-')\nplt.show()\n# <end examples/doc_model_loadmodelresult2.py>"
      ]
    }
  ],
  "metadata": {
    "kernelspec": {
      "display_name": "Python 3",
      "language": "python",
      "name": "python3"
    },
    "language_info": {
      "codemirror_mode": {
        "name": "ipython",
        "version": 3
      },
      "file_extension": ".py",
      "mimetype": "text/x-python",
      "name": "python",
      "nbconvert_exporter": "python",
      "pygments_lexer": "ipython3",
      "version": "3.12.4"
    }
  },
  "nbformat": 4,
  "nbformat_minor": 0
}