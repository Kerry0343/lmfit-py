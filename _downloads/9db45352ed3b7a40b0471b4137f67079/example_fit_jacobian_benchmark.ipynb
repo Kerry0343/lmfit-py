{
  "cells": [
    {
      "cell_type": "markdown",
      "metadata": {},
      "source": [
        "\n# Benchmarks of methods with and without computing the Jacobian analytically\n\nProviding a function that calculates the Jacobian matrix analytically can\nreduce the time spent finding a solution. The results from benchmarks comparing\ntwo methods (``leastsq`` and ``least_squares``) with and without a function to\ncalculate the Jacobian matrix analytically are presented below.\n\nFirst we define the model function, the residual function, and the appropriate\nJacobian functions:\n"
      ]
    },
    {
      "cell_type": "code",
      "execution_count": null,
      "metadata": {
        "collapsed": false
      },
      "outputs": [],
      "source": [
        "from timeit import timeit\nfrom types import SimpleNamespace\n\nimport matplotlib.pyplot as plt\nimport numpy as np\n\nfrom lmfit import Parameters, minimize\n\nNUM_JACOBIAN_CALLS = 0\n\n\ndef func(var, x):\n    return var[0] * np.exp(-var[1]*x) + var[2]\n\n\ndef residual(pars, x, data):\n    a, b, c = pars['a'], pars['b'], pars['c']\n    model = func((a, b, c), x)\n    return model - data\n\n\ndef dfunc(pars, x, data):\n    global NUM_JACOBIAN_CALLS\n    NUM_JACOBIAN_CALLS += 1\n\n    a, b = pars['a'], pars['b']\n    v = np.exp(-b*x)\n    return np.array([v, -a*x*v, np.ones(len(x))])\n\n\ndef jacfunc(pars, x, data):\n    global NUM_JACOBIAN_CALLS\n    NUM_JACOBIAN_CALLS += 1\n\n    a, b = pars['a'], pars['b']\n    v = np.exp(-b*x)\n    jac = np.ones((len(x), 3), dtype=np.float64)\n    jac[:, 0] = v\n    jac[:, 1] = -a * x * v\n    return jac\n\n\na, b, c = 2.5, 1.3, 0.8\n\nx = np.linspace(0, 4, 50)\ny = func([a, b, c], x)\n\ndata = y + 0.15*np.random.RandomState(seed=2021).normal(size=x.size)"
      ]
    },
    {
      "cell_type": "markdown",
      "metadata": {},
      "source": [
        "Then we define the different cases to benchmark (i.e., different methods with\nand without a function to calculate the Jacobian analytically) and the number\nof repetitions per case:\n\n"
      ]
    },
    {
      "cell_type": "code",
      "execution_count": null,
      "metadata": {
        "collapsed": false
      },
      "outputs": [],
      "source": [
        "cases = (\n    dict(\n        method='leastsq',\n    ),\n    dict(\n        method='leastsq',\n        Dfun=dfunc,\n        col_deriv=1,\n    ),\n    dict(\n        method='least_squares',\n    ),\n    dict(\n        method='least_squares',\n        jac=jacfunc,\n    ),\n)\n\nnum_repeats = 100\nresults = []\n\nfor kwargs in cases:\n    params = Parameters()\n    params.add('a', value=10)\n    params.add('b', value=10)\n    params.add('c', value=10)\n\n    wrapper = lambda: minimize(\n        residual,\n        params,\n        args=(x,),\n        kws={'data': data},\n        **kwargs,\n    )\n    time = timeit(wrapper, number=num_repeats) / num_repeats\n\n    NUM_JACOBIAN_CALLS = 0\n    fit = wrapper()\n\n    results.append(SimpleNamespace(\n        time=time,\n        num_jacobian_calls=NUM_JACOBIAN_CALLS,\n        fit=fit,\n        kwargs=kwargs,\n    ))"
      ]
    },
    {
      "cell_type": "markdown",
      "metadata": {},
      "source": [
        "Finally, we present the results:\n\n"
      ]
    },
    {
      "cell_type": "code",
      "execution_count": null,
      "metadata": {
        "collapsed": false
      },
      "outputs": [],
      "source": [
        "labels = []\n\nfor result in results:\n    label = result.kwargs['method']\n    if result.num_jacobian_calls > 0:\n        label += ' with Jac.'\n\n    labels.append(label)\n\nlabel_width = max(map(len, labels))\nlines = [\n    '| '\n    + ' | '.join([\n        'Method'.ljust(label_width),\n        'Avg. time (ms)',\n        '# func. (+ Jac.) calls',\n        'Chi-squared',\n        'a'.ljust(5),\n        'b'.ljust(5),\n        'c'.ljust(6),\n    ])\n    + '|'\n]\n\nprint(f'The \"true\" parameters are: a = {a:.3f}, b = {b:.3f}, c = {c:.3f}\\n')\nfig, ax = plt.subplots()\nax.plot(x, data, marker='.', linestyle='none', label='data')\n\nfor (result, label) in zip(results, labels):\n    linestyle = '-'\n    if result.num_jacobian_calls > 0:\n        linestyle = '--'\n\n    a = result.fit.params['a'].value\n    b = result.fit.params['b'].value\n    c = result.fit.params['c'].value\n    y = func([a, b, c], x)\n    ax.plot(x, y, label=label, alpha=0.5, linestyle=linestyle)\n\n    columns = [\n        label.ljust(label_width),\n        f'{result.time * 1000:.2f}'.ljust(14),\n        (\n            f'{result.fit.nfev}'\n            + (\n                f' (+{result.num_jacobian_calls})'\n                if result.num_jacobian_calls > 0 else\n                ''\n            )\n        ).ljust(22),\n        f'{result.fit.chisqr:.3f}'.ljust(11),\n        f'{a:.3f}'.ljust(5, '0'),\n        f'{b:.3f}'.ljust(5, '0'),\n        f'{c:.3f}'.ljust(5, '0'),\n    ]\n    lines.append('| ' + ' | '.join(columns) + ' |')\n\nlines.insert(1, '|-' + '-|-'.join('-' * len(col) for col in columns) + '-|')\nprint('\\n'.join(lines))\n\nax.set_xlabel('x')\nax.set_ylabel('y')\nax.legend()"
      ]
    }
  ],
  "metadata": {
    "kernelspec": {
      "display_name": "Python 3",
      "language": "python",
      "name": "python3"
    },
    "language_info": {
      "codemirror_mode": {
        "name": "ipython",
        "version": 3
      },
      "file_extension": ".py",
      "mimetype": "text/x-python",
      "name": "python",
      "nbconvert_exporter": "python",
      "pygments_lexer": "ipython3",
      "version": "3.13.3"
    }
  },
  "nbformat": 4,
  "nbformat_minor": 0
}