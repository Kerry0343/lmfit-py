{
  "cells": [
    {
      "cell_type": "markdown",
      "metadata": {},
      "source": [
        "\n# doc_model_two_components.py\n"
      ]
    },
    {
      "cell_type": "code",
      "execution_count": null,
      "metadata": {
        "collapsed": false
      },
      "outputs": [],
      "source": [
        "# <examples/doc_model_two_components.py>\nimport matplotlib.pyplot as plt\nfrom numpy import exp, loadtxt, pi, sqrt\n\nfrom lmfit import Model\n\ndata = loadtxt('model1d_gauss.dat')\nx = data[:, 0]\ny = data[:, 1] + 0.25*x - 1.0\n\n\ndef gaussian(x, amp, cen, wid):\n    \"\"\"1-d gaussian: gaussian(x, amp, cen, wid)\"\"\"\n    return (amp / (sqrt(2*pi) * wid)) * exp(-(x-cen)**2 / (2*wid**2))\n\n\ndef line(x, slope, intercept):\n    \"\"\"a line\"\"\"\n    return slope*x + intercept\n\n\nmod = Model(gaussian) + Model(line)\npars = mod.make_params(amp=5, cen=5, wid={'value': 1, 'min': 0},\n                       slope=0, intercept=1)\n\nresult = mod.fit(y, pars, x=x)\nprint(result.fit_report())\n\nplt.plot(x, y, 'o')\nplt.plot(x, result.init_fit, '--', label='initial fit')\nplt.plot(x, result.best_fit, '-', label='best fit')\nplt.legend()\nplt.show()\n# <end examples/doc_model_two_components.py>"
      ]
    }
  ],
  "metadata": {
    "kernelspec": {
      "display_name": "Python 3",
      "language": "python",
      "name": "python3"
    },
    "language_info": {
      "codemirror_mode": {
        "name": "ipython",
        "version": 3
      },
      "file_extension": ".py",
      "mimetype": "text/x-python",
      "name": "python",
      "nbconvert_exporter": "python",
      "pygments_lexer": "ipython3",
      "version": "3.12.4"
    }
  },
  "nbformat": 4,
  "nbformat_minor": 0
}