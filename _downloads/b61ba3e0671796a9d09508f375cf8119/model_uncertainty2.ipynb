{
  "cells": [
    {
      "cell_type": "markdown",
      "metadata": {},
      "source": [
        "\n# doc_model_uncertainty2.py\n"
      ]
    },
    {
      "cell_type": "code",
      "execution_count": null,
      "metadata": {
        "collapsed": false
      },
      "outputs": [],
      "source": [
        "# <examples/doc_model_uncertainty2.py>\nimport matplotlib.pyplot as plt\nimport numpy as np\n\nfrom lmfit.models import ExponentialModel, GaussianModel\n\ndat = np.loadtxt('NIST_Gauss2.dat')\nx = dat[:, 1]\ny = dat[:, 0]\n\nmodel = (GaussianModel(prefix='g1_') +\n         GaussianModel(prefix='g2_') +\n         ExponentialModel(prefix='bkg_'))\n\nparams = model.make_params(bkg_amplitude=100, bkg_decay=80,\n                           g1_amplitude=3000,\n                           g1_center=100,\n                           g1_sigma=10,\n                           g2_amplitude=3000,\n                           g2_center=150,\n                           g2_sigma=10)\n\nresult = model.fit(y, params, x=x)\nprint(result.fit_report(min_correl=0.5))\n\ncomps = result.eval_components(x=x)\ndely = result.eval_uncertainty(sigma=3)\n\nfig, axes = plt.subplots(2, 2, figsize=(12.8, 9.6))\n\naxes[0][0].plot(x, y, 'o', color='#99002299', markersize=3, label='data')\naxes[0][0].plot(x, result.best_fit, '-', label='best fit')\naxes[0][0].plot(x, result.init_fit, '--', label='initial fit')\naxes[0][0].set_title('data, initial fit, and best-fit')\naxes[0][0].legend()\n\naxes[0][1].plot(x, y, 'o', color='#99002299', markersize=3, label='data')\naxes[0][1].plot(x, result.best_fit, '-', label='best fit')\naxes[0][1].fill_between(x, result.best_fit-dely, result.best_fit+dely,\n                        color=\"#8A8A8A\", label=r'3-$\\sigma$ band')\naxes[0][1].set_title('data, best-fit, and uncertainty band')\naxes[0][1].legend()\n\naxes[1][0].plot(x, result.best_fit, '-', label=r'best fit, 3-$\\sigma$ band')\naxes[1][0].fill_between(x,\n                        result.best_fit-result.dely,\n                        result.best_fit+result.dely,\n                        color=\"#8A8A8A\")\n\naxes[1][0].plot(x, comps['bkg_'], label=r'background, 3-$\\sigma$ band')\naxes[1][0].fill_between(x,\n                        comps['bkg_']-result.dely_comps['bkg_'],\n                        comps['bkg_']+result.dely_comps['bkg_'],\n                        color=\"#8A8A8A\")\n\naxes[1][0].plot(x, comps['g1_'], label=r'Gaussian #1, 3-$\\sigma$ band')\naxes[1][0].fill_between(x,\n                        comps['g1_']-result.dely_comps['g1_'],\n                        comps['g1_']+result.dely_comps['g1_'],\n                        color=\"#8A8A8A\")\n\naxes[1][0].plot(x, comps['g2_'], label=r'Gaussian #2, 3-$\\sigma$ band')\naxes[1][0].fill_between(x,\n                        comps['g2_']-result.dely_comps['g2_'],\n                        comps['g2_']+result.dely_comps['g2_'],\n                        color=\"#8A8A8A\")\naxes[1][0].set_title('model components with uncertainty bands')\naxes[1][0].legend()\n\naxes[1][1].plot(x, result.best_fit, '-', label='best fit')\naxes[1][1].plot(x, 10*result.dely, label=r'3-$\\sigma$ total (x10)')\naxes[1][1].plot(x, 10*result.dely_comps['bkg_'], label=r'3-$\\sigma$ background (x10)')\naxes[1][1].plot(x, 10*result.dely_comps['g1_'], label=r'3-$\\sigma$ Gaussian #1 (x10)')\naxes[1][1].plot(x, 10*result.dely_comps['g2_'], label=r'3-$\\sigma$ Gaussian #2 (x10)')\naxes[1][1].set_title('uncertainties for model components')\naxes[1][1].legend()\n\nplt.show()\n# <end examples/doc_model_uncertainty2.py>"
      ]
    }
  ],
  "metadata": {
    "kernelspec": {
      "display_name": "Python 3",
      "language": "python",
      "name": "python3"
    },
    "language_info": {
      "codemirror_mode": {
        "name": "ipython",
        "version": 3
      },
      "file_extension": ".py",
      "mimetype": "text/x-python",
      "name": "python",
      "nbconvert_exporter": "python",
      "pygments_lexer": "ipython3",
      "version": "3.12.4"
    }
  },
  "nbformat": 4,
  "nbformat_minor": 0
}