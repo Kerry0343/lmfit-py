{
  "cells": [
    {
      "cell_type": "markdown",
      "metadata": {},
      "source": [
        "\n# Fit Two Dimensional Peaks\n\nThis example illustrates how to handle two-dimensional data with lmfit.\n"
      ]
    },
    {
      "cell_type": "code",
      "execution_count": null,
      "metadata": {
        "collapsed": false
      },
      "outputs": [],
      "source": [
        "import matplotlib.pyplot as plt\nimport numpy as np\nfrom scipy.interpolate import griddata\n\nimport lmfit\nfrom lmfit.lineshapes import gaussian2d, lorentzian"
      ]
    },
    {
      "cell_type": "markdown",
      "metadata": {},
      "source": [
        "## Two-dimensional Gaussian\nWe start by considering a simple two-dimensional gaussian function, which\ndepends on coordinates `(x, y)`. The most general case of experimental\ndata will be irregularly sampled and noisy. Let's simulate some:\n\n"
      ]
    },
    {
      "cell_type": "code",
      "execution_count": null,
      "metadata": {
        "collapsed": false
      },
      "outputs": [],
      "source": [
        "npoints = 10000\nnp.random.seed(2021)\nx = np.random.rand(npoints)*10 - 4\ny = np.random.rand(npoints)*5 - 3\nz = gaussian2d(x, y, amplitude=30, centerx=2, centery=-.5, sigmax=.6, sigmay=.8)\nz += 2*(np.random.rand(*z.shape)-.5)\nerror = np.sqrt(z+1)"
      ]
    },
    {
      "cell_type": "markdown",
      "metadata": {},
      "source": [
        "To plot this, we can interpolate the data onto a grid.\n\n"
      ]
    },
    {
      "cell_type": "code",
      "execution_count": null,
      "metadata": {
        "collapsed": false
      },
      "outputs": [],
      "source": [
        "X, Y = np.meshgrid(np.linspace(x.min(), x.max(), 100),\n                   np.linspace(y.min(), y.max(), 100))\nZ = griddata((x, y), z, (X, Y), method='linear', fill_value=0)\n\nfig, ax = plt.subplots()\nart = ax.pcolor(X, Y, Z, shading='auto')\nplt.colorbar(art, ax=ax, label='z')\nax.set_xlabel('x')\nax.set_ylabel('y')\nplt.show()"
      ]
    },
    {
      "cell_type": "markdown",
      "metadata": {},
      "source": [
        "In this case, we can use a built-in model to fit\n\n"
      ]
    },
    {
      "cell_type": "code",
      "execution_count": null,
      "metadata": {
        "collapsed": false
      },
      "outputs": [],
      "source": [
        "model = lmfit.models.Gaussian2dModel()\nparams = model.guess(z, x, y)\nresult = model.fit(z, x=x, y=y, params=params, weights=1/error)\nlmfit.report_fit(result)"
      ]
    },
    {
      "cell_type": "markdown",
      "metadata": {},
      "source": [
        "To check the fit, we can evaluate the function on the same grid we used\nbefore and make plots of the data, the fit and the difference between the two.\n\n"
      ]
    },
    {
      "cell_type": "code",
      "execution_count": null,
      "metadata": {
        "collapsed": false
      },
      "outputs": [],
      "source": [
        "fig, axs = plt.subplots(2, 2, figsize=(10, 10))\n\nvmax = np.nanpercentile(Z, 99.9)\n\nax = axs[0, 0]\nart = ax.pcolor(X, Y, Z, vmin=0, vmax=vmax, shading='auto')\nplt.colorbar(art, ax=ax, label='z')\nax.set_title('Data')\n\nax = axs[0, 1]\nfit = model.func(X, Y, **result.best_values)\nart = ax.pcolor(X, Y, fit, vmin=0, vmax=vmax, shading='auto')\nplt.colorbar(art, ax=ax, label='z')\nax.set_title('Fit')\n\nax = axs[1, 0]\nfit = model.func(X, Y, **result.best_values)\nart = ax.pcolor(X, Y, Z-fit, vmin=0, vmax=10, shading='auto')\nplt.colorbar(art, ax=ax, label='z')\nax.set_title('Data - Fit')\n\nfor ax in axs.ravel():\n    ax.set_xlabel('x')\n    ax.set_ylabel('y')\naxs[1, 1].remove()\nplt.show()"
      ]
    },
    {
      "cell_type": "markdown",
      "metadata": {},
      "source": [
        "## Two-dimensional off-axis Lorentzian\nWe now go on to show a harder example, in which the peak has a Lorentzian\nprofile and an off-axis anisotropic shape. This can be handled by applying a\nsuitable coordinate transform and then using the `lorentzian` function that\nlmfit provides in the lineshapes module.\n\n"
      ]
    },
    {
      "cell_type": "code",
      "execution_count": null,
      "metadata": {
        "collapsed": false
      },
      "outputs": [],
      "source": [
        "def lorentzian2d(x, y, amplitude=1., centerx=0., centery=0., sigmax=1., sigmay=1.,\n                 rotation=0):\n    \"\"\"Return a two dimensional lorentzian.\n\n    The maximum of the peak occurs at ``centerx`` and ``centery``\n    with widths ``sigmax`` and ``sigmay`` in the x and y directions\n    respectively. The peak can be rotated by choosing the value of ``rotation``\n    in radians.\n    \"\"\"\n    xp = (x - centerx)*np.cos(rotation) - (y - centery)*np.sin(rotation)\n    yp = (x - centerx)*np.sin(rotation) + (y - centery)*np.cos(rotation)\n    R = (xp/sigmax)**2 + (yp/sigmay)**2\n\n    return 2*amplitude*lorentzian(R)/(np.pi*sigmax*sigmay)"
      ]
    },
    {
      "cell_type": "markdown",
      "metadata": {},
      "source": [
        "Data can be simulated and plotted in the same way as we did before.\n\n"
      ]
    },
    {
      "cell_type": "code",
      "execution_count": null,
      "metadata": {
        "collapsed": false
      },
      "outputs": [],
      "source": [
        "npoints = 10000\nx = np.random.rand(npoints)*10 - 4\ny = np.random.rand(npoints)*5 - 3\nz = lorentzian2d(x, y, amplitude=30, centerx=2, centery=-.5, sigmax=.6,\n                 sigmay=1.2, rotation=30*np.pi/180)\nz += 2*(np.random.rand(*z.shape)-.5)\nerror = np.sqrt(z+1)\n\nX, Y = np.meshgrid(np.linspace(x.min(), x.max(), 100),\n                   np.linspace(y.min(), y.max(), 100))\nZ = griddata((x, y), z, (X, Y), method='linear', fill_value=0)\n\nfig, ax = plt.subplots()\nax.set_xlabel('x')\nax.set_ylabel('y')\nart = ax.pcolor(X, Y, Z, shading='auto')\nplt.colorbar(art, ax=ax, label='z')\nplt.show()"
      ]
    },
    {
      "cell_type": "markdown",
      "metadata": {},
      "source": [
        "To fit, create a model from the function. Don't forget to tell lmfit that both\n`x` and `y` are independent variables. Keep in mind that lmfit will take the\nfunction keywords as default initial guesses in this case and that it will not\nknow that certain parameters only make physical sense over restricted ranges.\nFor example, peak widths should be positive and the rotation can be restricted\nover a quarter circle.\n\n"
      ]
    },
    {
      "cell_type": "code",
      "execution_count": null,
      "metadata": {
        "collapsed": false
      },
      "outputs": [],
      "source": [
        "model = lmfit.Model(lorentzian2d, independent_vars=['x', 'y'])\nparams = model.make_params(amplitude=10, centerx=x[np.argmax(z)],\n                           centery=y[np.argmax(z)])\nparams['rotation'].set(value=.1, min=0, max=np.pi/2)\nparams['sigmax'].set(value=1, min=0)\nparams['sigmay'].set(value=2, min=0)\n\nresult = model.fit(z, x=x, y=y, params=params, weights=1/error)\nlmfit.report_fit(result)"
      ]
    },
    {
      "cell_type": "markdown",
      "metadata": {},
      "source": [
        "The process of making plots to check it worked is the same as before.\n\n"
      ]
    },
    {
      "cell_type": "code",
      "execution_count": null,
      "metadata": {
        "collapsed": false
      },
      "outputs": [],
      "source": [
        "fig, axs = plt.subplots(2, 2, figsize=(10, 10))\n\nvmax = np.nanpercentile(Z, 99.9)\n\nax = axs[0, 0]\nart = ax.pcolor(X, Y, Z, vmin=0, vmax=vmax, shading='auto')\nplt.colorbar(art, ax=ax, label='z')\nax.set_title('Data')\n\nax = axs[0, 1]\nfit = model.func(X, Y, **result.best_values)\nart = ax.pcolor(X, Y, fit, vmin=0, vmax=vmax, shading='auto')\nplt.colorbar(art, ax=ax, label='z')\nax.set_title('Fit')\n\nax = axs[1, 0]\nfit = model.func(X, Y, **result.best_values)\nart = ax.pcolor(X, Y, Z-fit, vmin=0, vmax=10, shading='auto')\nplt.colorbar(art, ax=ax, label='z')\nax.set_title('Data - Fit')\n\nfor ax in axs.ravel():\n    ax.set_xlabel('x')\n    ax.set_ylabel('y')\naxs[1, 1].remove()\nplt.show()"
      ]
    }
  ],
  "metadata": {
    "kernelspec": {
      "display_name": "Python 3",
      "language": "python",
      "name": "python3"
    },
    "language_info": {
      "codemirror_mode": {
        "name": "ipython",
        "version": 3
      },
      "file_extension": ".py",
      "mimetype": "text/x-python",
      "name": "python",
      "nbconvert_exporter": "python",
      "pygments_lexer": "ipython3",
      "version": "3.13.3"
    }
  },
  "nbformat": 4,
  "nbformat_minor": 0
}