{
  "cells": [
    {
      "cell_type": "markdown",
      "metadata": {},
      "source": [
        "\n# Builtinmodels - nistgauss2\n"
      ]
    },
    {
      "cell_type": "code",
      "execution_count": null,
      "metadata": {
        "collapsed": false
      },
      "outputs": [],
      "source": [
        "# <examples/doc_nistgauss2.py>\nimport matplotlib.pyplot as plt\nimport numpy as np\n\nfrom lmfit.models import ExponentialModel, GaussianModel\n\ndat = np.loadtxt('NIST_Gauss2.dat')\nx = dat[:, 1]\ny = dat[:, 0]\n\nexp_mod = ExponentialModel(prefix='exp_')\ngauss1 = GaussianModel(prefix='g1_')\ngauss2 = GaussianModel(prefix='g2_')\n\n\ndef index_of(arrval, value):\n    \"\"\"Return index of array *at or below* value.\"\"\"\n    if value < min(arrval):\n        return 0\n    return max(np.where(arrval <= value)[0])\n\n\nix1 = index_of(x, 75)\nix2 = index_of(x, 135)\nix3 = index_of(x, 175)\n\npars1 = exp_mod.guess(y[:ix1], x=x[:ix1])\npars2 = gauss1.guess(y[ix1:ix2], x=x[ix1:ix2])\npars3 = gauss2.guess(y[ix2:ix3], x=x[ix2:ix3])\n\npars = pars1 + pars2 + pars3\nmod = gauss1 + gauss2 + exp_mod\n\nout = mod.fit(y, pars, x=x)\n\nprint(out.fit_report(min_correl=0.5))\n\nplt.plot(x, y)\nplt.plot(x, out.init_fit, '--', label='initial fit')\nplt.plot(x, out.best_fit, '-', label='best fit')\nplt.legend()\nplt.show()\n# <end examples/doc_nistgauss2.py>"
      ]
    }
  ],
  "metadata": {
    "kernelspec": {
      "display_name": "Python 3",
      "language": "python",
      "name": "python3"
    },
    "language_info": {
      "codemirror_mode": {
        "name": "ipython",
        "version": 3
      },
      "file_extension": ".py",
      "mimetype": "text/x-python",
      "name": "python",
      "nbconvert_exporter": "python",
      "pygments_lexer": "ipython3",
      "version": "3.13.3"
    }
  },
  "nbformat": 4,
  "nbformat_minor": 0
}