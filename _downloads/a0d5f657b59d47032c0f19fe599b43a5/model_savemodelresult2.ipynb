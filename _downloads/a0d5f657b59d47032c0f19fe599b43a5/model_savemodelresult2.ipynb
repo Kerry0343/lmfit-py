{
  "cells": [
    {
      "cell_type": "markdown",
      "metadata": {},
      "source": [
        "\n# doc_model_savemodelresult2.py\n"
      ]
    },
    {
      "cell_type": "code",
      "execution_count": null,
      "metadata": {
        "collapsed": false
      },
      "outputs": [],
      "source": [
        "# <examples/doc_model_savemodelresult2.py>\nimport numpy as np\n\nfrom lmfit.model import save_modelresult\nfrom lmfit.models import ExponentialModel, GaussianModel\n\ndat = np.loadtxt('NIST_Gauss2.dat')\nx = dat[:, 1]\ny = dat[:, 0]\n\nexp_mod = ExponentialModel(prefix='exp_')\npars = exp_mod.guess(y, x=x)\n\ngauss1 = GaussianModel(prefix='g1_')\npars.update(gauss1.make_params(center=dict(value=105, min=75, max=125),\n                               sigma=dict(value=15, min=0),\n                               amplitude=dict(value=2000, min=0)))\n\ngauss2 = GaussianModel(prefix='g2_')\npars.update(gauss2.make_params(center=dict(value=155, min=125, max=175),\n                               sigma=dict(value=15, min=0),\n                               amplitude=dict(value=2000, min=0)))\n\nmod = gauss1 + gauss2 + exp_mod\n\ninit = mod.eval(pars, x=x)\n\nresult = mod.fit(y, pars, x=x)\n\nsave_modelresult(result, 'nistgauss_modelresult.sav')\n\nprint(result.fit_report())\n# <end examples/doc_model_savemodelresult2.py>"
      ]
    }
  ],
  "metadata": {
    "kernelspec": {
      "display_name": "Python 3",
      "language": "python",
      "name": "python3"
    },
    "language_info": {
      "codemirror_mode": {
        "name": "ipython",
        "version": 3
      },
      "file_extension": ".py",
      "mimetype": "text/x-python",
      "name": "python",
      "nbconvert_exporter": "python",
      "pygments_lexer": "ipython3",
      "version": "3.10.10"
    }
  },
  "nbformat": 4,
  "nbformat_minor": 0
}