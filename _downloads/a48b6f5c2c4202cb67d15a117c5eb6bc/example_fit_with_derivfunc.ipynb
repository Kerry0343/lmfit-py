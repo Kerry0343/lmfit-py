{
  "cells": [
    {
      "cell_type": "code",
      "execution_count": null,
      "metadata": {
        "collapsed": false
      },
      "outputs": [],
      "source": [
        "%matplotlib inline"
      ]
    },
    {
      "cell_type": "markdown",
      "metadata": {},
      "source": [
        "\n# Fit Specifying a Function to Compute the Jacobian\n\nSpecifying an analytical function to calculate the Jacobian can speed-up the\nfitting procedure.\n"
      ]
    },
    {
      "cell_type": "code",
      "execution_count": null,
      "metadata": {
        "collapsed": false
      },
      "outputs": [],
      "source": [
        "import matplotlib.pyplot as plt\nimport numpy as np\n\nfrom lmfit import Minimizer, Parameters\n\n\ndef func(pars, x, data=None):\n    a, b, c = pars['a'], pars['b'], pars['c']\n    model = a * np.exp(-b*x) + c\n    if data is None:\n        return model\n    return model - data\n\n\ndef dfunc(pars, x, data=None):\n    a, b = pars['a'], pars['b']\n    v = np.exp(-b*x)\n    return np.array([v, -a*x*v, np.ones(len(x))])\n\n\ndef f(var, x):\n    return var[0] * np.exp(-var[1]*x) + var[2]\n\n\nparams = Parameters()\nparams.add('a', value=10)\nparams.add('b', value=10)\nparams.add('c', value=10)\n\na, b, c = 2.5, 1.3, 0.8\nx = np.linspace(0, 4, 50)\ny = f([a, b, c], x)\nnp.random.seed(2021)\ndata = y + 0.15*np.random.normal(size=x.size)"
      ]
    },
    {
      "cell_type": "markdown",
      "metadata": {},
      "source": [
        "Fit without analytic derivative:\n\n"
      ]
    },
    {
      "cell_type": "code",
      "execution_count": null,
      "metadata": {
        "collapsed": false
      },
      "outputs": [],
      "source": [
        "min1 = Minimizer(func, params, fcn_args=(x,), fcn_kws={'data': data})\nout1 = min1.leastsq()\nfit1 = func(out1.params, x)"
      ]
    },
    {
      "cell_type": "markdown",
      "metadata": {},
      "source": [
        "Fit with analytic derivative:\n\n"
      ]
    },
    {
      "cell_type": "code",
      "execution_count": null,
      "metadata": {
        "collapsed": false
      },
      "outputs": [],
      "source": [
        "min2 = Minimizer(func, params, fcn_args=(x,), fcn_kws={'data': data})\nout2 = min2.leastsq(Dfun=dfunc, col_deriv=1)\nfit2 = func(out2.params, x)"
      ]
    },
    {
      "cell_type": "markdown",
      "metadata": {},
      "source": [
        "Comparison of fit to exponential decay with/without analytical derivatives\nto model = a*exp(-b*x) + c:\n\n"
      ]
    },
    {
      "cell_type": "code",
      "execution_count": null,
      "metadata": {
        "collapsed": false
      },
      "outputs": [],
      "source": [
        "print(f'\"true\" parameters are: a = {a:.3f}, b = {b:.3f}, c = {c:.3f}\\n\\n'\n      '|=========================================\\n'\n      '| Statistic/Parameter | Without | With   |\\n'\n      '|-----------------------------------------\\n'\n      f'|  N Function Calls   | {out1.nfev:d}      | {out2.nfev:d}     |\\n'\n      f'|     Chi-square      | {out1.chisqr:.4f}  | {out2.chisqr:.4f} |\\n'\n      f\"|         a           | {out1.params['a'].value:.4f}  | {out2.params['a'].value:.4f} |\\n\"\n      f\"|         b           | {out1.params['b'].value:.4f}  | {out2.params['b'].value:.4f} |\\n\"\n      f\"|         c           | {out1.params['c'].value:.4f}  | {out2.params['c'].value:.4f} |\\n\"\n      '------------------------------------------')"
      ]
    },
    {
      "cell_type": "markdown",
      "metadata": {},
      "source": [
        "and the best-fit to the synthetic data (with added noise) is the same for\nboth methods:\n\n"
      ]
    },
    {
      "cell_type": "code",
      "execution_count": null,
      "metadata": {
        "collapsed": false
      },
      "outputs": [],
      "source": [
        "plt.plot(x, data, 'o', label='data')\nplt.plot(x, fit1, label='with analytical derivative')\nplt.plot(x, fit2, '--', label='without analytical derivative')\nplt.legend()"
      ]
    }
  ],
  "metadata": {
    "kernelspec": {
      "display_name": "Python 3",
      "language": "python",
      "name": "python3"
    },
    "language_info": {
      "codemirror_mode": {
        "name": "ipython",
        "version": 3
      },
      "file_extension": ".py",
      "mimetype": "text/x-python",
      "name": "python",
      "nbconvert_exporter": "python",
      "pygments_lexer": "ipython3",
      "version": "3.11.0"
    }
  },
  "nbformat": 4,
  "nbformat_minor": 0
}