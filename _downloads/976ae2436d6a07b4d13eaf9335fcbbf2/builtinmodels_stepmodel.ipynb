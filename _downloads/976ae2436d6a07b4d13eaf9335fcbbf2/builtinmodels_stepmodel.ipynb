{
  "cells": [
    {
      "cell_type": "markdown",
      "metadata": {},
      "source": [
        "\n# Builtinmodels - stepmodel\n"
      ]
    },
    {
      "cell_type": "code",
      "execution_count": null,
      "metadata": {
        "collapsed": false
      },
      "outputs": [],
      "source": [
        "# <examples/doc_builtinmodels_stepmodel.py>\nimport matplotlib.pyplot as plt\nimport numpy as np\n\nfrom lmfit.models import LinearModel, StepModel\n\nx = np.linspace(0, 10, 201)\ny = np.ones_like(x)\ny[:48] = 0.0\ny[48:77] = np.arange(77-48)/(77.0-48)\nnp.random.seed(0)\ny = 110.2 * (y + 9e-3*np.random.randn(x.size)) + 12.0 + 2.22*x\n\nstep_mod = StepModel(form='erf', prefix='step_')\nline_mod = LinearModel(prefix='line_')\n\npars = line_mod.make_params(intercept=y.min(), slope=0)\npars += step_mod.guess(y, x=x, center=2.5)\n\nmod = step_mod + line_mod\nout = mod.fit(y, pars, x=x)\n\nprint(out.fit_report())\n\nplt.plot(x, y)\nplt.plot(x, out.init_fit, '--', label='initial fit')\nplt.plot(x, out.best_fit, '-', label='best fit')\nplt.legend()\nplt.show()\n# <end examples/doc_builtinmodels_stepmodel.py>"
      ]
    }
  ],
  "metadata": {
    "kernelspec": {
      "display_name": "Python 3",
      "language": "python",
      "name": "python3"
    },
    "language_info": {
      "codemirror_mode": {
        "name": "ipython",
        "version": 3
      },
      "file_extension": ".py",
      "mimetype": "text/x-python",
      "name": "python",
      "nbconvert_exporter": "python",
      "pygments_lexer": "ipython3",
      "version": "3.13.3"
    }
  },
  "nbformat": 4,
  "nbformat_minor": 0
}