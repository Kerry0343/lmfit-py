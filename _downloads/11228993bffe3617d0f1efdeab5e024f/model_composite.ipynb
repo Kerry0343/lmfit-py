{
  "cells": [
    {
      "cell_type": "markdown",
      "metadata": {},
      "source": [
        "\n# doc_model_composite.py\n"
      ]
    },
    {
      "cell_type": "code",
      "execution_count": null,
      "metadata": {
        "collapsed": false
      },
      "outputs": [],
      "source": [
        "# <examples/doc_model_composite.py>\nimport matplotlib.pyplot as plt\nimport numpy as np\n\nfrom lmfit import CompositeModel, Model\nfrom lmfit.lineshapes import gaussian, step\n\n# create data from broadened step\nx = np.linspace(0, 10, 201)\ny = step(x, amplitude=12.5, center=4.5, sigma=0.88, form='erf')\nnp.random.seed(0)\ny = y + np.random.normal(scale=0.35, size=x.size)\n\n\ndef jump(x, mid):\n    \"\"\"Heaviside step function.\"\"\"\n    o = np.zeros(x.size)\n    imid = max(np.where(x <= mid)[0])\n    o[imid:] = 1.0\n    return o\n\n\ndef convolve(arr, kernel):\n    \"\"\"Simple convolution of two arrays.\"\"\"\n    npts = min(arr.size, kernel.size)\n    pad = np.ones(npts)\n    tmp = np.concatenate((pad*arr[0], arr, pad*arr[-1]))\n    out = np.convolve(tmp, kernel, mode='valid')\n    noff = int((len(out) - npts) / 2)\n    return out[noff:noff+npts]\n\n\n# create Composite Model using the custom convolution operator\nmod = CompositeModel(Model(jump), Model(gaussian), convolve)\n\n# create parameters for model.  Note that 'mid' and 'center' will be highly\n# correlated. Since 'mid' is used as an integer index, it will be very\n# hard to fit, so we fix its value\npars = mod.make_params(amplitude=dict(value=1, min=0),\n                       center=3.5,\n                       sigma=dict(value=1.5, min=0),\n                       mid=dict(value=4, vary=False))\n\n# fit this model to data array y\nresult = mod.fit(y, params=pars, x=x)\n\nprint(result.fit_report())\n\n# generate components\ncomps = result.eval_components(x=x)\n\n# plot results\nfig, axes = plt.subplots(1, 2, figsize=(12.8, 4.8))\n\naxes[0].plot(x, y, 'bo')\naxes[0].plot(x, result.init_fit, 'k--', label='initial fit')\naxes[0].plot(x, result.best_fit, 'r-', label='best fit')\naxes[0].legend()\n\naxes[1].plot(x, y, 'bo')\naxes[1].plot(x, 10*comps['jump'], 'k--', label='Jump component')\naxes[1].plot(x, 10*comps['gaussian'], 'r-', label='Gaussian component')\naxes[1].legend()\n\nplt.show()\n# <end examples/doc_model_composite.py>"
      ]
    }
  ],
  "metadata": {
    "kernelspec": {
      "display_name": "Python 3",
      "language": "python",
      "name": "python3"
    },
    "language_info": {
      "codemirror_mode": {
        "name": "ipython",
        "version": 3
      },
      "file_extension": ".py",
      "mimetype": "text/x-python",
      "name": "python",
      "nbconvert_exporter": "python",
      "pygments_lexer": "ipython3",
      "version": "3.12.4"
    }
  },
  "nbformat": 4,
  "nbformat_minor": 0
}