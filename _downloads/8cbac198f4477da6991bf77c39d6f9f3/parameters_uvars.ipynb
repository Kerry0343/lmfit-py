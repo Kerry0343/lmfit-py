{
  "cells": [
    {
      "cell_type": "markdown",
      "metadata": {},
      "source": [
        "\n# Parameters - uvars\n"
      ]
    },
    {
      "cell_type": "code",
      "execution_count": null,
      "metadata": {
        "collapsed": false
      },
      "outputs": [],
      "source": [
        "# <examples/doc_parameters_uvars.py>\nimport numpy as np\n\nfrom lmfit.models import ExponentialModel, GaussianModel\n\ndat = np.loadtxt('NIST_Gauss2.dat')\nx = dat[:, 1]\ny = dat[:, 0]\n\nbkg = ExponentialModel(prefix='exp_')\ngauss1 = GaussianModel(prefix='g1_')\ngauss2 = GaussianModel(prefix='g2_')\n\nmod = gauss1 + gauss2 + bkg\n\npars = mod.make_params(g1_center=105, g1_amplitude=4000, g1_sigma={'value': 15, 'min': 0},\n                       g2_center=155, g2_amplitude=2000, g2_sigma={'value': 15, 'min': 0},\n                       exp_amplitude=100, exp_decay=100)\n\nout = mod.fit(y, pars, x=x)\n\nprint(out.fit_report(min_correl=0.5))\n\n# Area and Centroid of the combined peaks\n# option 1: from output uncertainties values\n\nuvar_g1amp = out.uvars['g1_amplitude']\nuvar_g2amp = out.uvars['g2_amplitude']\nuvar_g1cen = out.uvars['g1_center']\nuvar_g2cen = out.uvars['g2_center']\n\nprint(\"### Peak Area: \")\nprint(f\"Peak1: {out.params['g1_amplitude'].value:.5f}+/-{out.params['g1_amplitude'].stderr:.5f}\")\nprint(f\"Peak2: {out.params['g2_amplitude'].value:.5f}+/-{out.params['g2_amplitude'].stderr:.5f}\")\nprint(f\"Sum  : {(uvar_g1amp + uvar_g2amp):.5f}\")\n\n\narea_quadrature = np.sqrt(out.params['g1_amplitude'].stderr**2 + out.params['g2_amplitude'].stderr**2)\n\nprint(f\"Correlation of peak1 and peak2 areas:            {out.params['g1_amplitude'].correl['g2_amplitude']:.5f}\")\nprint(f\"Stderr Quadrature sum for peak1 and peak2 area2: {area_quadrature:.5f}\")\nprint(f\"Stderr of peak1 + peak2 area, with correlation:  {(uvar_g1amp+uvar_g2amp).std_dev:.5f}\")\n\nprint(\"### Peak Centroid: \")\n\ncentroid = (uvar_g1amp * uvar_g1cen + uvar_g2amp * uvar_g2cen) / (uvar_g1amp + uvar_g2amp)\n\nprint(f\"Peak Centroid: {centroid:.5f}\")\n\n# option 2: define corresponding variables after fit\n\n\ndef post_fit(result):\n    \"example post fit function\"\n    result.params.add('post_area', expr='g1_amplitude + g2_amplitude')\n    result.params.add('post_centroid', expr='(g1_amplitude*g1_center+ g2_amplitude*g2_center)/(g1_amplitude + g2_amplitude)')\n\n\nmod.post_fit = post_fit\n\nout = mod.fit(y, pars, x=x)\nprint(out.fit_report(min_correl=0.5))\n\n# option 3: define corresponding variables before fit\npars.add('area', expr='g1_amplitude + g2_amplitude')\npars.add('centroid', expr='(g1_amplitude*g1_center+ g2_amplitude*g2_center)/(g1_amplitude + g2_amplitude)')\n\nout = mod.fit(y, pars, x=x)\nprint(out.fit_report(min_correl=0.5))\n# <end examples/doc_parameters_uvars.py>"
      ]
    }
  ],
  "metadata": {
    "kernelspec": {
      "display_name": "Python 3",
      "language": "python",
      "name": "python3"
    },
    "language_info": {
      "codemirror_mode": {
        "name": "ipython",
        "version": 3
      },
      "file_extension": ".py",
      "mimetype": "text/x-python",
      "name": "python",
      "nbconvert_exporter": "python",
      "pygments_lexer": "ipython3",
      "version": "3.12.5"
    }
  },
  "nbformat": 4,
  "nbformat_minor": 0
}