{
  "cells": [
    {
      "cell_type": "markdown",
      "metadata": {},
      "source": [
        "\n# doc_model_savemodel.py\n"
      ]
    },
    {
      "cell_type": "code",
      "execution_count": null,
      "metadata": {
        "collapsed": false
      },
      "outputs": [],
      "source": [
        "# <examples/doc_model_savemodel.py>\nimport numpy as np\n\nfrom lmfit.model import Model, save_model\n\n\ndef mysine(x, amp, freq, shift):\n    return amp * np.sin(x*freq + shift)\n\n\nsinemodel = Model(mysine)\npars = sinemodel.make_params(amp=1, freq=0.25, shift=0)\n\nsave_model(sinemodel, 'sinemodel.sav')\n# <end examples/doc_model_savemodel.py>"
      ]
    }
  ],
  "metadata": {
    "kernelspec": {
      "display_name": "Python 3",
      "language": "python",
      "name": "python3"
    },
    "language_info": {
      "codemirror_mode": {
        "name": "ipython",
        "version": 3
      },
      "file_extension": ".py",
      "mimetype": "text/x-python",
      "name": "python",
      "nbconvert_exporter": "python",
      "pygments_lexer": "ipython3",
      "version": "3.10.11"
    }
  },
  "nbformat": 4,
  "nbformat_minor": 0
}