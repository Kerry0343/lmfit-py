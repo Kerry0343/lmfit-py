{
  "cells": [
    {
      "cell_type": "markdown",
      "metadata": {},
      "source": [
        "\n# doc_confidence_chi2_maps.py\n"
      ]
    },
    {
      "cell_type": "code",
      "execution_count": null,
      "metadata": {
        "collapsed": false
      },
      "outputs": [],
      "source": [
        "# <examples/doc_confidence_chi2_maps.py>\n\nimport matplotlib.pyplot as plt\nimport numpy as np\n\nfrom lmfit import conf_interval, conf_interval2d, report_ci\nfrom lmfit.lineshapes import gaussian\nfrom lmfit.models import GaussianModel, LinearModel\n\nsigma_levels = [1, 2, 3]\n\nrng = np.random.default_rng(seed=102)"
      ]
    },
    {
      "cell_type": "markdown",
      "metadata": {},
      "source": [
        "set up data -- deliberately adding imperfections and\na small amount of non-Gaussian noise\n\n"
      ]
    },
    {
      "cell_type": "code",
      "execution_count": null,
      "metadata": {
        "collapsed": false
      },
      "outputs": [],
      "source": [
        "npts = 501\nx = np.linspace(1, 100, num=npts)\n\nnoise = rng.normal(scale=0.3, size=npts) + 0.2*rng.f(3, 9, size=npts)\n\ny = (gaussian(x, amplitude=83, center=47., sigma=5.)\n     + 0.02*x + 4 + 0.25*np.cos((x-20)/8.0) + noise)\n\nmod = GaussianModel() + LinearModel()\nparams = mod.make_params(amplitude=100, center=50, sigma=5,\n                         slope=0, intecept=2)\n\nout = mod.fit(y, params, x=x)\nprint(out.fit_report(correl_mode='table'))"
      ]
    },
    {
      "cell_type": "markdown",
      "metadata": {},
      "source": [
        "run conf_intervale, print report\n\n"
      ]
    },
    {
      "cell_type": "code",
      "execution_count": null,
      "metadata": {
        "collapsed": false
      },
      "outputs": [],
      "source": [
        "ci = conf_interval(out, out, sigmas=sigma_levels)\n\nprint(\"## Confidence Report:\")\nreport_ci(ci)"
      ]
    },
    {
      "cell_type": "markdown",
      "metadata": {},
      "source": [
        "plot initial fit\n\n"
      ]
    },
    {
      "cell_type": "code",
      "execution_count": null,
      "metadata": {
        "collapsed": false
      },
      "outputs": [],
      "source": [
        "colors = ('#2030b0', '#b02030', '#207070')\nfig, axes = plt.subplots(2, 3, figsize=(15, 9.5))\n\n\naxes[0, 0].plot(x, y, 'o', markersize=3, label='data', color=colors[0])\naxes[0, 0].plot(x, out.best_fit, label='fit', color=colors[1])\naxes[0, 0].set_xlabel('x')\naxes[0, 0].set_ylabel('y')\naxes[0, 0].legend()\n\n\naix, aiy = 0, 0\nnsamples = 50\nexplicitly_calculate_sigma = True\n\nfor pairs in (('sigma', 'amplitude'), ('intercept', 'amplitude'),\n              ('slope', 'intercept'), ('slope', 'center'), ('sigma', 'center')):\n\n    xpar, ypar = pairs\n    if explicitly_calculate_sigma:\n        print(\"Generating chi-square map for \", pairs)\n        c_x, c_y, chi2_mat = conf_interval2d(out, out, xpar, ypar,\n                                             nsamples, nsamples, nsigma=3.5,\n                                             chi2_out=True)\n        # explicitly calculate sigma matrix: sigma increases chi_square\n        # from  chi_square_best\n        # to    chi_square + sigma**2 * reduced_chi_square\n        # so:   sigma = sqrt((chi2-chi2_best)/ reduced_chi_square)\n        chi2_min = chi2_mat.min()\n        sigma_mat = np.sqrt((chi2_mat-chi2_min)/out.redchi)\n    else:\n        print(\"Generating sigma map for \", pairs)\n        # or, you could just calculate the matrix of probabilities as:\n        # print(\"Generating chi-square map for \", pairs)\n        c_x, c_y, sigma_mat = conf_interval2d(out, out, xpar, ypar,\n                                              nsamples, nsamples, nsigma=3.5)\n\n    aix += 1\n    if aix == 2:\n        aix = 0\n        aiy += 1\n    ax = axes[aix, aiy]\n\n    cnt = ax.contour(c_x, c_y, sigma_mat, levels=sigma_levels, colors=colors,\n                     linestyles='-')\n    ax.clabel(cnt, inline=True, fmt=r\"$\\sigma=%.0f$\", fontsize=13)\n\n    # draw boxes for estimated uncertaties:\n    #  dotted :  scaled stderr from initial fit\n    #  dashed :  values found from conf_interval()\n    xv = out.params[xpar].value\n    xs = out.params[xpar].stderr\n    yv = out.params[ypar].value\n    ys = out.params[ypar].stderr\n\n    cix = ci[xpar]\n    ciy = ci[ypar]\n\n    nc = len(sigma_levels)\n    for i in sigma_levels:\n        # dotted line: scaled stderr\n        ax.plot((xv-i*xs, xv+i*xs, xv+i*xs, xv-i*xs, xv-i*xs),\n                (yv-i*ys, yv-i*ys, yv+i*ys, yv+i*ys, yv-i*ys),\n                linestyle='dotted', color=colors[i-1])\n\n        # dashed line: refined uncertainties from conf_interval\n        xsp, xsm = cix[nc+i][1], cix[nc-i][1]\n        ysp, ysm = ciy[nc+i][1], ciy[nc-i][1]\n        ax.plot((xsm, xsp, xsp, xsm, xsm), (ysm, ysm, ysp, ysp, ysm),\n                linestyle='dashed', color=colors[i-1])\n\n    ax.set_xlabel(xpar)\n    ax.set_ylabel(ypar)\n    ax.grid(True, color='#d0d0d0')\n\nplt.show()\n# <end examples/doc_confidence_chi2_maps.py>"
      ]
    }
  ],
  "metadata": {
    "kernelspec": {
      "display_name": "Python 3",
      "language": "python",
      "name": "python3"
    },
    "language_info": {
      "codemirror_mode": {
        "name": "ipython",
        "version": 3
      },
      "file_extension": ".py",
      "mimetype": "text/x-python",
      "name": "python",
      "nbconvert_exporter": "python",
      "pygments_lexer": "ipython3",
      "version": "3.10.9"
    }
  },
  "nbformat": 4,
  "nbformat_minor": 0
}