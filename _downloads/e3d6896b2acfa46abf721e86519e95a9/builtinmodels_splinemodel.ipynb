{
  "cells": [
    {
      "cell_type": "markdown",
      "metadata": {},
      "source": [
        "\n# doc_builtinmodels_splinemodel.py\n"
      ]
    },
    {
      "cell_type": "code",
      "execution_count": null,
      "metadata": {
        "collapsed": false
      },
      "outputs": [],
      "source": [
        "# <examples/doc_builtinmodels_splinemodel.py>\nimport matplotlib.pyplot as plt\nimport numpy as np\n\nfrom lmfit.models import GaussianModel, SplineModel\n\ndata = np.loadtxt('test_splinepeak.dat')\nx = data[:, 0]\ny = data[:, 1]\n\nplt.plot(x, y, label='data')\n\nmodel = GaussianModel(prefix='peak_')\nparams = model.make_params(amplitude=dict(value=8, min=0),\n                           center=dict(value=16, min=5, max=25),\n                           sigma=dict(value=1, min=0))\n\n# make a background spline with knots evenly spaced over the background,\n# but sort of skipping over where the peak is\nknot_xvals3 = np.array([1, 3, 5, 7, 9, 11, 13, 15, 17, 19, 21, 23, 25])\nknot_xvals2 = np.array([1, 3, 5, 7, 9, 11, 13,   16,   19, 21, 23, 25])  # noqa: E241\nknot_xvals1 = np.array([1, 3, 5, 7, 9, 11, 13,         19, 21, 23, 25])  # noqa: E241\n\nbkg = SplineModel(prefix='bkg_', xknots=knot_xvals1)\nparams.update(bkg.guess(y, x))\n\nmodel = model + bkg\n\nplt.plot(x, model.eval(params, x=x), label='initial')\n\nout = model.fit(y, params, x=x)\nprint(out.fit_report(min_correl=0.3))\ncomps = out.eval_components()\n\nplt.plot(x, out.best_fit, label='best fit')\nplt.plot(x, comps['bkg_'], label='background')\nplt.plot(x, comps['peak_'], label='peak')\n\nknot_yvals = np.array([o.value for o in out.params.values() if o.name.startswith('bkg')])\nplt.plot(knot_xvals1, knot_yvals, 'o', color='black', label='spline knots values')\nplt.legend()\nplt.show()\n\n\n#   knot positions         | peak amplitude\n#  11, 13, 19, 21          |  12.223  0.295\n#  11, 13, 16, 19, 21      |  11.746  0.594\n#  11, 13, 15, 17, 19, 21  |  12.052  0.872\n\n\nplt.plot(x, y, 'o', label='data')\n\nfor nknots in (10, 15, 20, 25, 30):\n    model = SplineModel(prefix='bkg_', xknots=np.linspace(0, 25, nknots))\n    params = model.guess(y, x)\n    out = model.fit(y, params, x=x)\n    plt.plot(x, out.best_fit, label=f'best-fit ({nknots} knots)')\nplt.legend()\nplt.show()\n\n# <end examples/doc_builtinmodels_splinemodel.py>"
      ]
    }
  ],
  "metadata": {
    "kernelspec": {
      "display_name": "Python 3",
      "language": "python",
      "name": "python3"
    },
    "language_info": {
      "codemirror_mode": {
        "name": "ipython",
        "version": 3
      },
      "file_extension": ".py",
      "mimetype": "text/x-python",
      "name": "python",
      "nbconvert_exporter": "python",
      "pygments_lexer": "ipython3",
      "version": "3.10.11"
    }
  },
  "nbformat": 4,
  "nbformat_minor": 0
}