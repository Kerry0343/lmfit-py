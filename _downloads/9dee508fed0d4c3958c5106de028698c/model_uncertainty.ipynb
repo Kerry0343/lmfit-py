{
  "cells": [
    {
      "cell_type": "markdown",
      "metadata": {},
      "source": [
        "\n# doc_model_uncertainty.py\n"
      ]
    },
    {
      "cell_type": "code",
      "execution_count": null,
      "metadata": {
        "collapsed": false
      },
      "outputs": [],
      "source": [
        "# <examples/doc_model_uncertainty.py>\nimport matplotlib.pyplot as plt\nfrom numpy import exp, loadtxt, pi, sqrt\n\nfrom lmfit import Model\n\ndata = loadtxt('model1d_gauss.dat')\nx = data[:, 0]\ny = data[:, 1]\n\n\ndef gaussian(x, amp, cen, wid):\n    \"\"\"1-d gaussian: gaussian(x, amp, cen, wid)\"\"\"\n    return (amp / (sqrt(2*pi) * wid)) * exp(-(x-cen)**2 / (2*wid**2))\n\n\ngmodel = Model(gaussian)\nresult = gmodel.fit(y, x=x, amp=5, cen=5, wid=1)\n\nprint(result.fit_report())\n\ndely = result.eval_uncertainty(sigma=3)\n\nplt.plot(x, y, 'o')\nplt.plot(x, result.init_fit, '--', label='initial fit')\nplt.plot(x, result.best_fit, '-', label='best fit')\nplt.fill_between(x, result.best_fit-dely, result.best_fit+dely,\n                 color=\"#ABABAB\", label=r'3-$\\sigma$ uncertainty band')\nplt.legend()\nplt.show()\n# <end examples/doc_model_uncertainty.py>"
      ]
    }
  ],
  "metadata": {
    "kernelspec": {
      "display_name": "Python 3",
      "language": "python",
      "name": "python3"
    },
    "language_info": {
      "codemirror_mode": {
        "name": "ipython",
        "version": 3
      },
      "file_extension": ".py",
      "mimetype": "text/x-python",
      "name": "python",
      "nbconvert_exporter": "python",
      "pygments_lexer": "ipython3",
      "version": "3.12.4"
    }
  },
  "nbformat": 4,
  "nbformat_minor": 0
}