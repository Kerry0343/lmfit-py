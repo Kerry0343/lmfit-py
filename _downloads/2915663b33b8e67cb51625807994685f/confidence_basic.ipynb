{
  "cells": [
    {
      "cell_type": "markdown",
      "metadata": {},
      "source": [
        "\n# doc_confidence_basic.py\n"
      ]
    },
    {
      "cell_type": "code",
      "execution_count": null,
      "metadata": {
        "collapsed": false
      },
      "outputs": [],
      "source": [
        "# <examples/doc_confidence_basic.py>\nimport numpy as np\n\nimport lmfit\n\nx = np.linspace(0.3, 10, 100)\nnp.random.seed(0)\ny = 1/(0.1*x) + 2 + 0.1*np.random.randn(x.size)\n\npars = lmfit.create_params(a=0.1, b=1)\n\n\ndef residual(p):\n    return 1/(p['a']*x) + p['b'] - y\n\n\nmini = lmfit.Minimizer(residual, pars)\nresult = mini.minimize()\n\nprint(lmfit.fit_report(result.params))\n\nci = lmfit.conf_interval(mini, result)\nlmfit.printfuncs.report_ci(ci)\n# <end examples/doc_confidence_basic.py>"
      ]
    }
  ],
  "metadata": {
    "kernelspec": {
      "display_name": "Python 3",
      "language": "python",
      "name": "python3"
    },
    "language_info": {
      "codemirror_mode": {
        "name": "ipython",
        "version": 3
      },
      "file_extension": ".py",
      "mimetype": "text/x-python",
      "name": "python",
      "nbconvert_exporter": "python",
      "pygments_lexer": "ipython3",
      "version": "3.12.4"
    }
  },
  "nbformat": 4,
  "nbformat_minor": 0
}