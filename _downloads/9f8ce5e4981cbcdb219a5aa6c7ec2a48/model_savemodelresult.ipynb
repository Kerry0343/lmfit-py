{
  "cells": [
    {
      "cell_type": "markdown",
      "metadata": {},
      "source": [
        "\n# doc_model_savemodelresult.py\n"
      ]
    },
    {
      "cell_type": "code",
      "execution_count": null,
      "metadata": {
        "collapsed": false
      },
      "outputs": [],
      "source": [
        "# <examples/doc_model_savemodelresult.py>\nimport numpy as np\n\nfrom lmfit.model import save_modelresult\nfrom lmfit.models import GaussianModel\n\ndata = np.loadtxt('model1d_gauss.dat')\nx = data[:, 0]\ny = data[:, 1]\n\ngmodel = GaussianModel()\nresult = gmodel.fit(y, x=x, amplitude=5, center=5, sigma=1)\n\nsave_modelresult(result, 'gauss_modelresult.sav')\n\nprint(result.fit_report())\n# <end examples/doc_model_savemodelresult.py>"
      ]
    }
  ],
  "metadata": {
    "kernelspec": {
      "display_name": "Python 3",
      "language": "python",
      "name": "python3"
    },
    "language_info": {
      "codemirror_mode": {
        "name": "ipython",
        "version": 3
      },
      "file_extension": ".py",
      "mimetype": "text/x-python",
      "name": "python",
      "nbconvert_exporter": "python",
      "pygments_lexer": "ipython3",
      "version": "3.11.5"
    }
  },
  "nbformat": 4,
  "nbformat_minor": 0
}