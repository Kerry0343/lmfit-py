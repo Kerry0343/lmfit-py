{
  "cells": [
    {
      "cell_type": "markdown",
      "metadata": {},
      "source": [
        "\n# Fit with Algebraic Constraint\n"
      ]
    },
    {
      "cell_type": "markdown",
      "metadata": {},
      "source": [
        "Example on how to use algebraic constraints using the ``expr`` attribute.\n\n"
      ]
    },
    {
      "cell_type": "code",
      "execution_count": null,
      "metadata": {
        "collapsed": false
      },
      "outputs": [],
      "source": [
        "import matplotlib.pyplot as plt\nfrom numpy import linspace, random\n\nfrom lmfit.lineshapes import gaussian, lorentzian\nfrom lmfit.models import GaussianModel, LinearModel, LorentzianModel\n\nrandom.seed(0)\nx = linspace(0.0, 20.0, 601)\n\ndata = (gaussian(x, amplitude=21, center=8.1, sigma=1.2) +\n        lorentzian(x, amplitude=10, center=9.6, sigma=2.4) +\n        0.01 + x*0.05 + random.normal(scale=0.23, size=x.size))\n\n\nmodel = GaussianModel(prefix='g_') + LorentzianModel(prefix='l_') + LinearModel(prefix='line_')\n\nparams = model.make_params(g_amplitude=10, g_center=9, g_sigma=1,\n                           line_slope=0, line_intercept=0)\n\nparams.add(name='total_amplitude', value=20)\nparams.set(l_amplitude=dict(expr='total_amplitude - g_amplitude'))\nparams.set(l_center=dict(expr='1.5+g_center'))\nparams.set(l_sigma=dict(expr='2*g_sigma'))\n\n\ndata_uncertainty = 0.021  # estimate of data error (for all data points)\n\ninit = model.eval(params, x=x)\nresult = model.fit(data, params, x=x, weights=1.0/data_uncertainty)\n\nprint(result.fit_report())\n\nplt.plot(x, data, '+')\nplt.plot(x, init, '--', label='initial fit')\nplt.plot(x, result.best_fit, '-', label='best fit')\nplt.legend()\nplt.show()"
      ]
    }
  ],
  "metadata": {
    "kernelspec": {
      "display_name": "Python 3",
      "language": "python",
      "name": "python3"
    },
    "language_info": {
      "codemirror_mode": {
        "name": "ipython",
        "version": 3
      },
      "file_extension": ".py",
      "mimetype": "text/x-python",
      "name": "python",
      "nbconvert_exporter": "python",
      "pygments_lexer": "ipython3",
      "version": "3.13.3"
    }
  },
  "nbformat": 4,
  "nbformat_minor": 0
}