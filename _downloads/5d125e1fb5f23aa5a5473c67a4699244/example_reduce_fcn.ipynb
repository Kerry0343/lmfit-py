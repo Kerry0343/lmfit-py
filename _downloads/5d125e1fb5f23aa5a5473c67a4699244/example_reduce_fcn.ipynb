{
  "cells": [
    {
      "cell_type": "markdown",
      "metadata": {},
      "source": [
        "\n# Fit Specifying Different Reduce Function\n\nThe ``reduce_fcn`` specifies how to convert a residual array to a scalar value\nfor the scalar minimizers. The default value is None (i.e., \"sum of squares of\nresidual\") - alternatives are: ``negentropy``, ``neglogcauchy``, or a\nuser-specified ``callable``. For more information please refer to:\nhttps://lmfit.github.io/lmfit-py/fitting.html#using-the-minimizer-class\n\nHere, we use as an example the Student's t log-likelihood for robust fitting\nof data with outliers.\n"
      ]
    },
    {
      "cell_type": "code",
      "execution_count": null,
      "metadata": {
        "collapsed": false
      },
      "outputs": [],
      "source": [
        "import matplotlib.pyplot as plt\nimport numpy as np\n\nimport lmfit\n\n\ndef resid(params, x, ydata):\n    decay = params['decay'].value\n    offset = params['offset'].value\n    omega = params['omega'].value\n    amp = params['amp'].value\n\n    y_model = offset + amp * np.sin(x*omega) * np.exp(-x/decay)\n    return y_model - ydata"
      ]
    },
    {
      "cell_type": "markdown",
      "metadata": {},
      "source": [
        "Generate synthetic data with noise/outliers and initialize fitting Parameters:\n\n"
      ]
    },
    {
      "cell_type": "code",
      "execution_count": null,
      "metadata": {
        "collapsed": false
      },
      "outputs": [],
      "source": [
        "decay = 5\noffset = 1.0\namp = 2.0\nomega = 4.0\n\nnp.random.seed(2)\nx = np.linspace(0, 10, 101)\ny = offset + amp * np.sin(omega*x) * np.exp(-x/decay)\nyn = y + np.random.normal(size=y.size, scale=0.250)\n\noutliers = np.random.randint(int(len(x)/3.0), len(x), int(len(x)/12))\nyn[outliers] += 5*np.random.random(len(outliers))\n\nparams = lmfit.create_params(offset=2.0, omega=3.3, amp=2.5,\n                             decay=dict(value=1, min=0))"
      ]
    },
    {
      "cell_type": "markdown",
      "metadata": {},
      "source": [
        "Perform fits using the ``L-BFGS-B`` method with different ``reduce_fcn``:\n\n"
      ]
    },
    {
      "cell_type": "code",
      "execution_count": null,
      "metadata": {
        "collapsed": false
      },
      "outputs": [],
      "source": [
        "method = 'L-BFGS-B'\no1 = lmfit.minimize(resid, params, args=(x, yn), method=method)\nprint(\"# Fit using sum of squares:\\n\")\nlmfit.report_fit(o1)"
      ]
    },
    {
      "cell_type": "code",
      "execution_count": null,
      "metadata": {
        "collapsed": false
      },
      "outputs": [],
      "source": [
        "o2 = lmfit.minimize(resid, params, args=(x, yn), method=method,\n                    reduce_fcn='neglogcauchy')\nprint(\"\\n\\n# Robust Fit, using log-likelihood with Cauchy PDF:\\n\")\nlmfit.report_fit(o2)"
      ]
    },
    {
      "cell_type": "code",
      "execution_count": null,
      "metadata": {
        "collapsed": false
      },
      "outputs": [],
      "source": [
        "plt.plot(x, y, 'o', label='true function')\nplt.plot(x, yn, '--*', label='with noise+outliers')\nplt.plot(x, yn+o1.residual, '-', label='sum of squares fit')\nplt.plot(x, yn+o2.residual, '-', label='robust fit')\nplt.legend()\nplt.show()"
      ]
    }
  ],
  "metadata": {
    "kernelspec": {
      "display_name": "Python 3",
      "language": "python",
      "name": "python3"
    },
    "language_info": {
      "codemirror_mode": {
        "name": "ipython",
        "version": 3
      },
      "file_extension": ".py",
      "mimetype": "text/x-python",
      "name": "python",
      "nbconvert_exporter": "python",
      "pygments_lexer": "ipython3",
      "version": "3.13.3"
    }
  },
  "nbformat": 4,
  "nbformat_minor": 0
}