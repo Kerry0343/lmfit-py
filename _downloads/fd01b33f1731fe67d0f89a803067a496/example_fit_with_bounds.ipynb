{
  "cells": [
    {
      "cell_type": "markdown",
      "metadata": {},
      "source": [
        "\n# Fit Using Bounds\n\nA major advantage of using lmfit is that one can specify boundaries on fitting\nparameters, even if the underlying algorithm in SciPy does not support this.\nFor more information on how this is implemented, please refer to:\nhttps://lmfit.github.io/lmfit-py/bounds.html\n\nThe example below shows how to set boundaries using the ``min`` and ``max``\nattributes to fitting parameters.\n"
      ]
    },
    {
      "cell_type": "code",
      "execution_count": null,
      "metadata": {
        "collapsed": false
      },
      "outputs": [],
      "source": [
        "import matplotlib.pyplot as plt\nfrom numpy import exp, linspace, pi, random, sign, sin\n\nfrom lmfit import create_params, minimize\nfrom lmfit.printfuncs import report_fit"
      ]
    },
    {
      "cell_type": "markdown",
      "metadata": {},
      "source": [
        "create the 'true' Parameter values and residual function:\n\n"
      ]
    },
    {
      "cell_type": "code",
      "execution_count": null,
      "metadata": {
        "collapsed": false
      },
      "outputs": [],
      "source": [
        "p_true = create_params(amp=14.0, period=5.4321, shift=0.12345, decay=0.010)\n\n\ndef residual(pars, x, data=None):\n    argu = (x * pars['decay'])**2\n    shift = pars['shift']\n    if abs(shift) > pi/2:\n        shift = shift - sign(shift)*pi\n    model = pars['amp'] * sin(shift + x/pars['period']) * exp(-argu)\n    if data is None:\n        return model\n    return model - data"
      ]
    },
    {
      "cell_type": "markdown",
      "metadata": {},
      "source": [
        "Generate synthetic data and initialize fitting Parameters:\n\n"
      ]
    },
    {
      "cell_type": "code",
      "execution_count": null,
      "metadata": {
        "collapsed": false
      },
      "outputs": [],
      "source": [
        "random.seed(0)\nx = linspace(0, 250, 1500)\nnoise = random.normal(scale=2.8, size=x.size)\ndata = residual(p_true, x) + noise\n\nfit_params = create_params(amp=dict(value=13, max=20, min=0),\n                           period=dict(value=2, max=10),\n                           shift=dict(value=0, max=pi/2., min=-pi/2.),\n                           decay=dict(value=0.02, max=0.1, min=0))"
      ]
    },
    {
      "cell_type": "markdown",
      "metadata": {},
      "source": [
        "Perform the fit and show the results:\n\n"
      ]
    },
    {
      "cell_type": "code",
      "execution_count": null,
      "metadata": {
        "collapsed": false
      },
      "outputs": [],
      "source": [
        "out = minimize(residual, fit_params, args=(x,), kws={'data': data})\nfit = residual(out.params, x)"
      ]
    },
    {
      "cell_type": "code",
      "execution_count": null,
      "metadata": {
        "collapsed": false
      },
      "outputs": [],
      "source": [
        "report_fit(out, modelpars=p_true, correl_mode='table')"
      ]
    },
    {
      "cell_type": "code",
      "execution_count": null,
      "metadata": {
        "collapsed": false
      },
      "outputs": [],
      "source": [
        "plt.plot(x, data, 'o', label='data')\nplt.plot(x, fit, label='best fit')\nplt.legend()\nplt.show()"
      ]
    }
  ],
  "metadata": {
    "kernelspec": {
      "display_name": "Python 3",
      "language": "python",
      "name": "python3"
    },
    "language_info": {
      "codemirror_mode": {
        "name": "ipython",
        "version": 3
      },
      "file_extension": ".py",
      "mimetype": "text/x-python",
      "name": "python",
      "nbconvert_exporter": "python",
      "pygments_lexer": "ipython3",
      "version": "3.12.7"
    }
  },
  "nbformat": 4,
  "nbformat_minor": 0
}