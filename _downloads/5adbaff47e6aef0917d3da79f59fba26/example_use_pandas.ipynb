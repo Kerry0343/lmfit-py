{
  "cells": [
    {
      "cell_type": "markdown",
      "metadata": {},
      "source": [
        "\n# Fit with Data in a pandas DataFrame\n\nSimple example demonstrating how to read in the data using ``pandas`` and\nsupply the elements of the ``DataFrame`` to lmfit.\n"
      ]
    },
    {
      "cell_type": "code",
      "execution_count": null,
      "metadata": {
        "collapsed": false
      },
      "outputs": [],
      "source": [
        "import pandas as pd\n\nfrom lmfit.models import LorentzianModel"
      ]
    },
    {
      "cell_type": "markdown",
      "metadata": {},
      "source": [
        "read the data into a pandas DataFrame, and use the ``x`` and ``y`` columns:\n\n"
      ]
    },
    {
      "cell_type": "code",
      "execution_count": null,
      "metadata": {
        "collapsed": false
      },
      "outputs": [],
      "source": [
        "dframe = pd.read_csv('peak.csv')\n\nmodel = LorentzianModel()\nparams = model.guess(dframe['y'], x=dframe['x'])\n\nresult = model.fit(dframe['y'], params, x=dframe['x'])"
      ]
    },
    {
      "cell_type": "markdown",
      "metadata": {},
      "source": [
        "and gives the fitting results:\n\n"
      ]
    },
    {
      "cell_type": "code",
      "execution_count": null,
      "metadata": {
        "collapsed": false
      },
      "outputs": [],
      "source": [
        "print(result.fit_report())"
      ]
    },
    {
      "cell_type": "markdown",
      "metadata": {},
      "source": [
        "and plot below:\n\n"
      ]
    },
    {
      "cell_type": "code",
      "execution_count": null,
      "metadata": {
        "collapsed": false
      },
      "outputs": [],
      "source": [
        "result.plot_fit()"
      ]
    }
  ],
  "metadata": {
    "kernelspec": {
      "display_name": "Python 3",
      "language": "python",
      "name": "python3"
    },
    "language_info": {
      "codemirror_mode": {
        "name": "ipython",
        "version": 3
      },
      "file_extension": ".py",
      "mimetype": "text/x-python",
      "name": "python",
      "nbconvert_exporter": "python",
      "pygments_lexer": "ipython3",
      "version": "3.11.5"
    }
  },
  "nbformat": 4,
  "nbformat_minor": 0
}