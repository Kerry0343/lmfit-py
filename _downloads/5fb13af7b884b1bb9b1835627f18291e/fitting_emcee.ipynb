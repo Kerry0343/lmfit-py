{
  "cells": [
    {
      "cell_type": "markdown",
      "metadata": {},
      "source": [
        "\n# doc_fitting_emcee.py\n"
      ]
    },
    {
      "cell_type": "code",
      "execution_count": null,
      "metadata": {
        "collapsed": false
      },
      "outputs": [],
      "source": [
        "# <examples/doc_fitting_emcee.py>\nimport numpy as np\n\nimport lmfit\n\ntry:\n    import matplotlib.pyplot as plt\n    HASPYLAB = True\nexcept ImportError:\n    HASPYLAB = False\n\ntry:\n    import corner\n    HASCORNER = True\nexcept ImportError:\n    HASCORNER = False\n\nx = np.linspace(1, 10, 250)\nnp.random.seed(0)\ny = (3.0*np.exp(-x/2) - 5.0*np.exp(-(x-0.1) / 10.) +\n     0.1*np.random.randn(x.size))\n\np = lmfit.Parameters()\np.add_many(('a1', 4), ('a2', 4), ('t1', 3), ('t2', 3., True))\n\n\ndef residual(p):\n    v = p.valuesdict()\n    return v['a1']*np.exp(-x/v['t1']) + v['a2']*np.exp(-(x-0.1) / v['t2']) - y\n\n\nmi = lmfit.minimize(residual, p, method='nelder', nan_policy='omit')\nlmfit.printfuncs.report_fit(mi.params, min_correl=0.5)\nif HASPYLAB:\n    plt.figure()\n    plt.plot(x, y, 'o')\n    plt.plot(x, residual(mi.params) + y, label='best fit')\n    plt.legend()\n    plt.show()\n\n# Place bounds on the ln(sigma) parameter that emcee will automatically add\n# to estimate the true uncertainty in the data since is_weighted=False\nmi.params.add('__lnsigma', value=np.log(0.1), min=np.log(0.001), max=np.log(2))\n\nres = lmfit.minimize(residual, method='emcee', nan_policy='omit', burn=300,\n                     steps=1000, thin=20, params=mi.params, is_weighted=False,\n                     progress=False)\n\nif HASPYLAB and HASCORNER:\n    emcee_corner = corner.corner(res.flatchain, labels=res.var_names,\n                                 truths=list(res.params.valuesdict().values()))\n    plt.show()\n\nif HASPYLAB:\n    plt.plot(res.acceptance_fraction, 'o')\n    plt.xlabel('walker')\n    plt.ylabel('acceptance fraction')\n    plt.show()\n\nif hasattr(res, \"acor\"):\n    print(\"Autocorrelation time for the parameters:\")\n    print(\"----------------------------------------\")\n    for i, par in enumerate(p):\n        print(par, res.acor[i])\n\nprint(\"\\nmedian of posterior probability distribution\")\nprint('--------------------------------------------')\nlmfit.report_fit(res.params)\n\n\n# find the maximum likelihood solution\nhighest_prob = np.argmax(res.lnprob)\nhp_loc = np.unravel_index(highest_prob, res.lnprob.shape)\nmle_soln = res.chain[hp_loc]\nfor i, par in enumerate(p):\n    p[par].value = mle_soln[i]\n\nprint('\\nMaximum Likelihood Estimation from emcee       ')\nprint('-------------------------------------------------')\nprint('Parameter  MLE Value   Median Value   Uncertainty')\nfmt = '  {:5s}  {:11.5f} {:11.5f}   {:11.5f}'.format\nfor name, param in p.items():\n    print(fmt(name, param.value, res.params[name].value,\n              res.params[name].stderr))\n\nif HASPYLAB:\n    plt.figure()\n    plt.plot(x, y, 'o')\n    plt.plot(x, residual(mi.params) + y, label='Nelder-Mead')\n    plt.plot(x, residual(res.params) + y, '--', label='emcee')\n    plt.legend()\n    plt.show()\n\nprint('\\nError Estimates from emcee    ')\nprint('------------------------------------------------------')\nprint('Parameter  -2sigma  -1sigma   median  +1sigma  +2sigma ')\n\nfor name in p.keys():\n    quantiles = np.percentile(res.flatchain[name],\n                              [2.275, 15.865, 50, 84.135, 97.275])\n    median = quantiles[2]\n    err_m2 = quantiles[0] - median\n    err_m1 = quantiles[1] - median\n    err_p1 = quantiles[3] - median\n    err_p2 = quantiles[4] - median\n    fmt = '  {:5s}   {:8.4f} {:8.4f} {:8.4f} {:8.4f} {:8.4f}'.format\n    print(fmt(name, err_m2, err_m1, median, err_p1, err_p2))"
      ]
    }
  ],
  "metadata": {
    "kernelspec": {
      "display_name": "Python 3",
      "language": "python",
      "name": "python3"
    },
    "language_info": {
      "codemirror_mode": {
        "name": "ipython",
        "version": 3
      },
      "file_extension": ".py",
      "mimetype": "text/x-python",
      "name": "python",
      "nbconvert_exporter": "python",
      "pygments_lexer": "ipython3",
      "version": "3.10.11"
    }
  },
  "nbformat": 4,
  "nbformat_minor": 0
}