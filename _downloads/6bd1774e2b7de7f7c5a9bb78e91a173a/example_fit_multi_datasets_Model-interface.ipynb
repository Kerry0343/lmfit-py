{
  "cells": [
    {
      "cell_type": "markdown",
      "metadata": {},
      "source": [
        "\n# Fit Multiple Data Sets Using Model Interface\n\nFitting multiple (simulated) Gaussian data sets simultaneously, using the\nModel interface.\n\nAll minimizers require the residual array to be one-dimensional. Therefore,\nin the ``objective`` function we need to ``flatten`` the array before\nreturning it.\n"
      ]
    },
    {
      "cell_type": "code",
      "execution_count": null,
      "metadata": {
        "collapsed": false
      },
      "outputs": [],
      "source": [
        "import matplotlib.pyplot as plt\nimport numpy as np\n\nfrom lmfit import Parameters, minimize, report_fit\nfrom lmfit.models import GaussianModel"
      ]
    },
    {
      "cell_type": "markdown",
      "metadata": {},
      "source": [
        "Create N simulated Gaussian data sets\n\n"
      ]
    },
    {
      "cell_type": "code",
      "execution_count": null,
      "metadata": {
        "collapsed": false
      },
      "outputs": [],
      "source": [
        "N = 5\nnp.random.seed(2021)\nx = np.linspace(-1, 2, 151)\ndata = []\nfor _ in np.arange(N):\n    params = Parameters()\n    params.add('amplitude', value=0.60 + 9.50*np.random.rand())\n    params.add('center', value=-0.20 + 1.20*np.random.rand())\n    params.add('sigma', value=0.25 + 0.03*np.random.rand())\n    dat = (GaussianModel().eval(x=x, params=params) +\n           np.random.normal(size=x.size, scale=0.1))\n    data.append(dat)\ndata = np.array(data)"
      ]
    },
    {
      "cell_type": "markdown",
      "metadata": {},
      "source": [
        "The objective function will extract and evaluate a Gaussian from the\ncompound model\n\n"
      ]
    },
    {
      "cell_type": "code",
      "execution_count": null,
      "metadata": {
        "collapsed": false
      },
      "outputs": [],
      "source": [
        "def objective(params, x, data, model):\n    \"\"\"Calculate total residual for fits of Gaussians to several data sets.\"\"\"\n    ndata, _ = data.shape\n    resid = 0.0*data[:]\n\n    # make residual per data set\n    for i in range(ndata):\n        components = model.components[i].eval(params=params, x=x)\n        resid[i, :] = data[i, :] - components\n\n    # now flatten this to a 1D array, as minimize() needs\n    return resid.flatten()"
      ]
    },
    {
      "cell_type": "markdown",
      "metadata": {},
      "source": [
        "Create a composite model by adding Gaussians\n\n"
      ]
    },
    {
      "cell_type": "code",
      "execution_count": null,
      "metadata": {
        "collapsed": false
      },
      "outputs": [],
      "source": [
        "model_arr = [GaussianModel(prefix=f'n{i+1}_') for i, _ in enumerate(data)]\nmodel = sum(model_arr[1:], start=model_arr[0])"
      ]
    },
    {
      "cell_type": "markdown",
      "metadata": {},
      "source": [
        "Prepare the fitting parameters and constrain n2_sigma, ..., nN_sigma to be\nequal to n1_sigma\n\n"
      ]
    },
    {
      "cell_type": "code",
      "execution_count": null,
      "metadata": {
        "collapsed": false
      },
      "outputs": [],
      "source": [
        "fit_params = model.make_params()\nfor iy, y in enumerate(data):\n    fit_params.add(f'n{iy+1}_amplitude', value=0.5, min=0.0, max=200)\n    fit_params.add(f'n{iy+1}_center', value=0.4, min=-2.0, max=2.0)\n    fit_params.add(f'n{iy+1}_sigma', value=0.3, min=0.01, max=3.0)\n\n    if iy > 0:\n        fit_params[f'n{iy+1}_sigma'].expr = 'n1_sigma'"
      ]
    },
    {
      "cell_type": "markdown",
      "metadata": {},
      "source": [
        "Run the global fit and show the fitting result\n\n"
      ]
    },
    {
      "cell_type": "code",
      "execution_count": null,
      "metadata": {
        "collapsed": false
      },
      "outputs": [],
      "source": [
        "out = minimize(objective, fit_params, args=(x, data, model))\nreport_fit(out.params)"
      ]
    },
    {
      "cell_type": "markdown",
      "metadata": {},
      "source": [
        "Plot the data sets and fits\n\n"
      ]
    },
    {
      "cell_type": "code",
      "execution_count": null,
      "metadata": {
        "collapsed": false
      },
      "outputs": [],
      "source": [
        "plt.figure()\nfor i, y in enumerate(data):\n    components = model.eval_components(params=out.params, x=x)\n    plt.plot(x, y, 'o', x, components[f'n{i+1}_'], '-')\n\nplt.show()"
      ]
    }
  ],
  "metadata": {
    "kernelspec": {
      "display_name": "Python 3",
      "language": "python",
      "name": "python3"
    },
    "language_info": {
      "codemirror_mode": {
        "name": "ipython",
        "version": 3
      },
      "file_extension": ".py",
      "mimetype": "text/x-python",
      "name": "python",
      "nbconvert_exporter": "python",
      "pygments_lexer": "ipython3",
      "version": "3.13.3"
    }
  },
  "nbformat": 4,
  "nbformat_minor": 0
}