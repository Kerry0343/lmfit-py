{
  "cells": [
    {
      "cell_type": "markdown",
      "metadata": {},
      "source": [
        "\n# doc_model_with_iter_callback.py\n"
      ]
    },
    {
      "cell_type": "code",
      "execution_count": null,
      "metadata": {
        "collapsed": false
      },
      "outputs": [],
      "source": [
        "# <examples/doc_with_itercb.py>\nimport matplotlib.pyplot as plt\nfrom numpy import linspace, random\n\nfrom lmfit.lineshapes import gaussian\nfrom lmfit.models import GaussianModel, LinearModel\n\n\ndef per_iteration(pars, iteration, resid, *args, **kws):\n    print(\" ITER \", iteration, [f\"{p.name} = {p.value:.5f}\" for p in pars.values()])\n\n\nx = linspace(0., 20, 401)\ny = gaussian(x, amplitude=24.56, center=7.6543, sigma=1.23)\nrandom.seed(2021)\ny = y - .20*x + 3.333 + random.normal(scale=0.23, size=x.size)\n\nmod = GaussianModel(prefix='peak_') + LinearModel(prefix='bkg_')\n\npars = mod.make_params(peak_amplitude=dict(value=3.0, min=0),\n                       peak_center=dict(value=6.0, min=0, max=20),\n                       peak_sigma=2.0,\n                       bkg_intercept=0,\n                       bkg_slope=0)\n\nout = mod.fit(y, pars, x=x, iter_cb=per_iteration)\n\nplt.plot(x, y, '--')\n\nprint(f'Nfev = {out.nfev}')\nprint(out.fit_report())\n\nplt.plot(x, out.best_fit, '-', label='best fit')\nplt.legend()\nplt.show()\n# <end examples/doc_with_itercb.py>"
      ]
    }
  ],
  "metadata": {
    "kernelspec": {
      "display_name": "Python 3",
      "language": "python",
      "name": "python3"
    },
    "language_info": {
      "codemirror_mode": {
        "name": "ipython",
        "version": 3
      },
      "file_extension": ".py",
      "mimetype": "text/x-python",
      "name": "python",
      "nbconvert_exporter": "python",
      "pygments_lexer": "ipython3",
      "version": "3.12.4"
    }
  },
  "nbformat": 4,
  "nbformat_minor": 0
}